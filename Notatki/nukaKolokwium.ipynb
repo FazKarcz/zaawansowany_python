{
 "cells": [
  {
   "cell_type": "markdown",
   "id": "200ad747",
   "metadata": {},
   "source": [
    "Zad 1"
   ]
  },
  {
   "cell_type": "code",
   "execution_count": 19,
   "id": "29a959c3",
   "metadata": {},
   "outputs": [
    {
     "name": "stdout",
     "output_type": "stream",
     "text": [
      "100,200,300,400,BANKRUT,Druga szansa,500,1000\n",
      "Wypadło: 400\n",
      "Pole nr 1: 100\n",
      "Pole nr 5: BANKRUT\n",
      "Pole nr 8: 1000\n"
     ]
    }
   ],
   "source": [
    "import random\n",
    "from itertools import cycle, islice\n",
    "\n",
    "class KoloFortuny:\n",
    "    def __init__(self, pola):\n",
    "        self.pola = pola\n",
    "        self.pozycja = 0  # startujemy od początku\n",
    "    \n",
    "    def zakrec_kolem(self):\n",
    "        obroty = random.randint(5, 20)\n",
    "        self.pozycja = (self.pozycja + obroty) % len(self.pola)\n",
    "        wynik = self.pola[self.pozycja]\n",
    "        print(f\"Wypadło: {wynik}\")\n",
    "        return wynik\n",
    "    \n",
    "    def __str__(self):\n",
    "        return ','.join(str(pole) for pole in self.pola)\n",
    "    \n",
    "    def __getitem__(self, index):\n",
    "        if index < 1 or index > len(self.pola):\n",
    "            raise IndexError(\"Numer pola poza zakresem.\")\n",
    "        return self.pola[index - 1]\n",
    "\n",
    "\n",
    "pola = [100, 200, 300, 400, \"BANKRUT\", \"Druga szansa\", 500, 1000]\n",
    "\n",
    "kolo = KoloFortuny(pola)\n",
    "\n",
    "print(kolo)\n",
    "\n",
    "kolo.zakrec_kolem()\n",
    "\n",
    "print(\"Pole nr 1:\", kolo[1])\n",
    "print(\"Pole nr 5:\", kolo[5])\n",
    "print(\"Pole nr 8:\", kolo[8])"
   ]
  },
  {
   "cell_type": "markdown",
   "id": "17cf558c",
   "metadata": {},
   "source": [
    "Zad 2"
   ]
  },
  {
   "cell_type": "code",
   "execution_count": 2,
   "id": "ca4034eb",
   "metadata": {},
   "outputs": [
    {
     "name": "stdout",
     "output_type": "stream",
     "text": [
      "[-1.1, -0.7, 0.4, 0.1]\n"
     ]
    }
   ],
   "source": [
    "data = [-1.1, 0.4, 0.1, -0.7]\n",
    "posortowane = sorted(data, key=lambda x: abs(x - 0), reverse=True)\n",
    "print(posortowane)\n"
   ]
  },
  {
   "cell_type": "markdown",
   "id": "0619a5c9",
   "metadata": {},
   "source": [
    "Zad 3"
   ]
  },
  {
   "cell_type": "code",
   "execution_count": 22,
   "id": "4240d453",
   "metadata": {},
   "outputs": [
    {
     "name": "stdout",
     "output_type": "stream",
     "text": [
      "['To jest zdanie', 'Jeszcze jedno zdanie testowe']\n"
     ]
    }
   ],
   "source": [
    "from typing import List\n",
    "\n",
    "def filtruj_zdania(sentences: List[str], min_words: int) -> List[str]:\n",
    "    filtrowane = filter(\n",
    "        lambda s: isinstance(s, str) and len(s.split()) >= min_words,\n",
    "        sentences\n",
    "    )\n",
    "    return list(filtrowane)\n",
    "\n",
    "zdania = [\"To jest zdanie\", \"Krótkie\", \"Jeszcze jedno zdanie testowe\"]\n",
    "print(filtruj_zdania(zdania, 2))"
   ]
  },
  {
   "cell_type": "markdown",
   "id": "87e70039",
   "metadata": {},
   "source": [
    "Zad 4"
   ]
  },
  {
   "cell_type": "code",
   "execution_count": 23,
   "id": "5b073f13",
   "metadata": {},
   "outputs": [
    {
     "name": "stdout",
     "output_type": "stream",
     "text": [
      "<class 'int'>|<class 'bool'>|<class 'float'>|<class 'str'>\n"
     ]
    }
   ],
   "source": [
    "data = [1, True, 0.0, 'LOL']\n",
    "as_string = '|'.join(map(str, map(type, data)))\n",
    "print(as_string)"
   ]
  },
  {
   "cell_type": "markdown",
   "id": "aecc7986",
   "metadata": {},
   "source": [
    "Zad 5"
   ]
  },
  {
   "cell_type": "code",
   "execution_count": null,
   "id": "dfd4bae7",
   "metadata": {},
   "outputs": [],
   "source": [
    "import numpy as np\n",
    "from concurrent.futures import ProcessPoolExecutor\n",
    "from typing import Tuple\n",
    "\n",
    "def oblicz_srednia_kolumny(kolumna: np.ndarray) -> float:\n",
    "    return np.mean(kolumna)\n",
    "\n",
    "def przetworz_macierz(arr: np.ndarray, liczba_procesow: int) -> float:\n",
    "    kolumny = [arr[:, i] for i in range(arr.shape[1])]\n",
    "\n",
    "    with ProcessPoolExecutor(max_workers=liczba_procesow) as executor:\n",
    "        wyniki = list(executor.map(oblicz_srednia_kolumny, kolumny))\n",
    "\n",
    "    srednia_globalna = sum(wyniki) / len(wyniki)\n",
    "    return srednia_globalna"
   ]
  }
 ],
 "metadata": {
  "kernelspec": {
   "display_name": "base",
   "language": "python",
   "name": "python3"
  },
  "language_info": {
   "codemirror_mode": {
    "name": "ipython",
    "version": 3
   },
   "file_extension": ".py",
   "mimetype": "text/x-python",
   "name": "python",
   "nbconvert_exporter": "python",
   "pygments_lexer": "ipython3",
   "version": "3.12.7"
  }
 },
 "nbformat": 4,
 "nbformat_minor": 5
}
