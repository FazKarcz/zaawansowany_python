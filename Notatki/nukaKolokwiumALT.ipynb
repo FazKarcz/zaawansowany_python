{
 "cells": [
  {
   "cell_type": "markdown",
   "id": "4a70e1ae",
   "metadata": {},
   "source": [
    "Zad 1"
   ]
  },
  {
   "cell_type": "code",
   "execution_count": 71,
   "id": "87321dcb",
   "metadata": {},
   "outputs": [
    {
     "name": "stdout",
     "output_type": "stream",
     "text": [
      "Wt\n",
      "Śr\n",
      "Czw\n",
      "Pt\n"
     ]
    }
   ],
   "source": [
    "import random\n",
    "from itertools import cycle\n",
    "\n",
    "class TydzienPracy:\n",
    "    def __init__(self, dni):\n",
    "        self.dni = dni\n",
    "        self.pozycja = 0\n",
    "\n",
    "    def nastepny_dzien(self):\n",
    "        przesuniecie = random.randint(1, 3)\n",
    "        self.pozycja = (self.pozycja + przesuniecie) % len(self.dni)\n",
    "        dzien = self.dni[self.pozycja]\n",
    "        return dzien\n",
    "\n",
    "    def nastepny(self):\n",
    "        self.pozycja = (self.pozycja + 1) % len(self.dni)\n",
    "        dzien = self.dni[self.pozycja]\n",
    "        return dzien\n",
    "\n",
    "    def __str__(self):\n",
    "        return ' '.join(self.dni)\n",
    "\n",
    "    def __getitem__(self, index):\n",
    "        if index < 1 or index > len(self.dni):\n",
    "            raise IndexError(\"Dzień poza zakresem.\")\n",
    "        return self.dni[index - 1]\n",
    "\n",
    "\n",
    "tydzien = TydzienPracy(['Pon', 'Wt', 'Śr', 'Czw', 'Pt'])\n",
    "#print(tydzien.nastepny_dzien())\n",
    "#print(tydzien[3])\n",
    "#print(str(tydzien))\n",
    "\n",
    "for i in range(4):\n",
    "    print(tydzien.nastepny())\n",
    "\n"
   ]
  },
  {
   "cell_type": "markdown",
   "id": "cc78e0f1",
   "metadata": {},
   "source": [
    "Zad 2"
   ]
  },
  {
   "cell_type": "code",
   "execution_count": 72,
   "id": "adba6126",
   "metadata": {},
   "outputs": [
    {
     "name": "stdout",
     "output_type": "stream",
     "text": [
      "[('Gdańsk', -350), ('Kraków', 300), ('Wrocław', 250), ('Warszawa', 0)]\n"
     ]
    }
   ],
   "source": [
    "cities = [(\"Warszawa\", 0), (\"Kraków\", 300), (\"Gdańsk\", -350), (\"Wrocław\", 250)]\n",
    "\n",
    "sorted_cities = sorted(cities, key=lambda x: abs(x[1] - 100), reverse=True)\n",
    "print(sorted_cities)\n"
   ]
  },
  {
   "cell_type": "markdown",
   "id": "b9e581e2",
   "metadata": {},
   "source": [
    "Zad 3 - Filtrowanie komunikatów systemowych"
   ]
  },
  {
   "cell_type": "code",
   "execution_count": 79,
   "id": "b2487a9c",
   "metadata": {},
   "outputs": [
    {
     "name": "stdout",
     "output_type": "stream",
     "text": [
      "['System start', 'Zbyt krótko']\n"
     ]
    }
   ],
   "source": [
    "from typing import List\n",
    "\n",
    "def filtruj_wiadomosci(messages: List[str], min_length: int) -> List[str]:\n",
    "    return list(filter(lambda m: isinstance(m, str) and len(m) >= min_length, messages))\n",
    "\n",
    "wiadomosci = [\"OK\", \"System start\", \"Błąd\", \"Zbyt krótko\", \"\", 123]\n",
    "print(filtruj_wiadomosci(wiadomosci, 8))\n"
   ]
  },
  {
   "cell_type": "markdown",
   "id": "f5953ddf",
   "metadata": {},
   "source": [
    "Zad 4 - Używając map() i str(), zbuduj string z typów danych wartości, oddzielonych znakiem ;"
   ]
  },
  {
   "cell_type": "code",
   "execution_count": 80,
   "id": "63061fae",
   "metadata": {},
   "outputs": [
    {
     "name": "stdout",
     "output_type": "stream",
     "text": [
      "<class 'bool'>;<class 'int'>;<class 'float'>;<class 'str'>\n"
     ]
    }
   ],
   "source": [
    "data = {\"status\": True, \"count\": 7, \"temp\": 20.5, \"msg\": \"OK\"}\n",
    "\n",
    "typy = ';'.join(map(str, map(type, data.values())))\n",
    "print(typy)"
   ]
  },
  {
   "cell_type": "markdown",
   "id": "b3e9823e",
   "metadata": {},
   "source": [
    "Zad 5 Średnia długość tekstu równolegle"
   ]
  },
  {
   "cell_type": "code",
   "execution_count": null,
   "id": "3e62b7ed",
   "metadata": {},
   "outputs": [],
   "source": [
    "from typing import List\n",
    "from concurrent.futures import ProcessPoolExecutor\n",
    "\n",
    "def dlugosc_fragmentu(fragment: List[str]) -> int:\n",
    "    return sum(len(t) for t in fragment)\n",
    "\n",
    "def laczna_dlugosc_tekstow(texts: List[str], liczba_procesow: int) -> int:\n",
    "    # Podział danych na równe fragmenty\n",
    "    chunk_size = len(texts) // liczba_procesow\n",
    "    fragmenty = [texts[i * chunk_size:(i + 1) * chunk_size] for i in range(liczba_procesow)]\n",
    "\n",
    "    # Do ostatniego fragmentu dodaj resztę, jeśli rozmiar niepodzielny\n",
    "    if len(texts) % liczba_procesow != 0:\n",
    "        fragmenty[-1].extend(texts[liczba_procesow * chunk_size:])\n",
    "\n",
    "    # Przetwarzanie równoległe\n",
    "    with ProcessPoolExecutor(max_workers=liczba_procesow) as executor:\n",
    "        wyniki = list(executor.map(dlugosc_fragmentu, fragmenty))\n",
    "\n",
    "    return sum(wyniki)\n",
    "\n",
    "\n",
    "\n",
    "if __name__ == \"__main__\":\n",
    "    teksty = [\"Python\", \"Test\", \"Zadanie numer pięć\", \"🚀 Kodowanie\", \"1234567890\", \"\"]\n",
    "    wynik = laczna_dlugosc_tekstow(teksty, liczba_procesow=3)\n",
    "    print(f\"Łączna długość tekstów: {wynik}\")"
   ]
  }
 ],
 "metadata": {
  "kernelspec": {
   "display_name": "base",
   "language": "python",
   "name": "python3"
  },
  "language_info": {
   "codemirror_mode": {
    "name": "ipython",
    "version": 3
   },
   "file_extension": ".py",
   "mimetype": "text/x-python",
   "name": "python",
   "nbconvert_exporter": "python",
   "pygments_lexer": "ipython3",
   "version": "3.12.7"
  }
 },
 "nbformat": 4,
 "nbformat_minor": 5
}
