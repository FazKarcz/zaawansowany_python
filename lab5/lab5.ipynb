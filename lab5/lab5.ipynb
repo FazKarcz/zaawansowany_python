{
  "nbformat": 4,
  "nbformat_minor": 0,
  "metadata": {
    "colab": {
      "provenance": []
    },
    "kernelspec": {
      "name": "python3",
      "display_name": "Python 3"
    },
    "language_info": {
      "name": "python"
    }
  },
  "cells": [
    {
      "cell_type": "markdown",
      "source": [
        "Zadania"
      ],
      "metadata": {
        "id": "or5t8KU1mb-z"
      }
    },
    {
      "cell_type": "code",
      "source": [
        "text = \"\"\"\n",
        "Adam Malinowski\n",
        ".gitignore\n",
        "2023-01-17 error \"Page not found\"\n",
        "[2025-03-06] NOTICE \"User admin logged in\"\n",
        "Code 3300 was invalid\n",
        "https://www.onet.pl 200 176353\n",
        "File /etc/passwd: permission denied\n",
        "Józef\n",
        "Ania\n",
        "JOLA\n",
        "marek\n",
        "Kowalski\n",
        "bodo363\n",
        "PIN 0000 was invalid\n",
        "/users/test is not a valid directory name\n",
        "192.168.0.1 access denied\n",
        "1000\n",
        "666\n",
        "\"\"\""
      ],
      "metadata": {
        "id": "JVZfyrBPn3yp"
      },
      "execution_count": 9,
      "outputs": []
    },
    {
      "cell_type": "code",
      "source": [
        "import re\n",
        "\n",
        "print(re.findall(r'^[A-Z].*', text, re.MULTILINE))"
      ],
      "metadata": {
        "colab": {
          "base_uri": "https://localhost:8080/"
        },
        "id": "uefczI2fn5Ft",
        "outputId": "fe3d438b-a688-413f-b424-1d82afdf9978"
      },
      "execution_count": 10,
      "outputs": [
        {
          "output_type": "stream",
          "name": "stdout",
          "text": [
            "['Adam Malinowski', 'Code 3300 was invalid', 'File /etc/passwd: permission denied', 'Józef', 'Ania', 'JOLA', 'Kowalski', 'PIN 0000 was invalid']\n"
          ]
        }
      ]
    },
    {
      "cell_type": "code",
      "source": [
        "print(re.findall(r'\\w*\\d\\w*', text))"
      ],
      "metadata": {
        "colab": {
          "base_uri": "https://localhost:8080/"
        },
        "id": "o8GFN7mhohfO",
        "outputId": "0fcf32e1-2b4d-4666-f17b-7435c2155238"
      },
      "execution_count": 11,
      "outputs": [
        {
          "output_type": "stream",
          "name": "stdout",
          "text": [
            "['2023', '01', '17', '2025', '03', '06', '3300', '200', '176353', 'bodo363', '0000', '192', '168', '0', '1', '1000', '666']\n"
          ]
        }
      ]
    },
    {
      "cell_type": "code",
      "source": [
        "print(re.findall(r'^.*\\..*$', text, re.MULTILINE))"
      ],
      "metadata": {
        "colab": {
          "base_uri": "https://localhost:8080/"
        },
        "id": "PCKtxwwhojlj",
        "outputId": "a3f22233-8750-419f-9065-8a4331a2574b"
      },
      "execution_count": 12,
      "outputs": [
        {
          "output_type": "stream",
          "name": "stdout",
          "text": [
            "['.gitignore', 'https://www.onet.pl 200 176353', '192.168.0.1 access denied']\n"
          ]
        }
      ]
    },
    {
      "cell_type": "code",
      "source": [
        "print(re.findall(r'^.*\\b\\d{3,}\\b.*$', text, re.MULTILINE))"
      ],
      "metadata": {
        "colab": {
          "base_uri": "https://localhost:8080/"
        },
        "id": "DJYM96TBoj3-",
        "outputId": "5af633ee-f0e0-493d-f9f3-842282c1d441"
      },
      "execution_count": 14,
      "outputs": [
        {
          "output_type": "stream",
          "name": "stdout",
          "text": [
            "['2023-01-17 error \"Page not found\"', '[2025-03-06] NOTICE \"User admin logged in\"', 'Code 3300 was invalid', 'https://www.onet.pl 200 176353', 'PIN 0000 was invalid', '192.168.0.1 access denied', '1000', '666']\n"
          ]
        }
      ]
    },
    {
      "cell_type": "code",
      "source": [
        "print(re.findall(r'^[A-Za-z]+$', text, re.MULTILINE))"
      ],
      "metadata": {
        "colab": {
          "base_uri": "https://localhost:8080/"
        },
        "id": "rEId8Z1koqwb",
        "outputId": "55660eef-d749-4f2a-bfbe-0c8e0bdf178c"
      },
      "execution_count": 15,
      "outputs": [
        {
          "output_type": "stream",
          "name": "stdout",
          "text": [
            "['Ania', 'JOLA', 'marek', 'Kowalski']\n"
          ]
        }
      ]
    },
    {
      "cell_type": "code",
      "source": [
        "print(re.findall(r'^\\d+$', text, re.MULTILINE))"
      ],
      "metadata": {
        "colab": {
          "base_uri": "https://localhost:8080/"
        },
        "id": "hBCP6ZI3otsH",
        "outputId": "68b167ac-448d-45ac-9988-7e83a4674fbb"
      },
      "execution_count": 16,
      "outputs": [
        {
          "output_type": "stream",
          "name": "stdout",
          "text": [
            "['1000', '666']\n"
          ]
        }
      ]
    },
    {
      "cell_type": "code",
      "source": [
        "print(re.findall(r'\\b(valid|invalid)\\b', text))"
      ],
      "metadata": {
        "colab": {
          "base_uri": "https://localhost:8080/"
        },
        "id": "QqWlU3xjovtK",
        "outputId": "0b1d8437-4408-4cb7-c278-560723461a9e"
      },
      "execution_count": 17,
      "outputs": [
        {
          "output_type": "stream",
          "name": "stdout",
          "text": [
            "['invalid', 'invalid', 'valid']\n"
          ]
        }
      ]
    },
    {
      "cell_type": "code",
      "source": [
        "print(re.findall(r'\\b\\d{4}-\\d{2}-\\d{2}\\b', text))"
      ],
      "metadata": {
        "colab": {
          "base_uri": "https://localhost:8080/"
        },
        "id": "q-g-JIR9oxWw",
        "outputId": "c40668bc-4a9f-43af-c8a6-93d03a705fcf"
      },
      "execution_count": 18,
      "outputs": [
        {
          "output_type": "stream",
          "name": "stdout",
          "text": [
            "['2023-01-17', '2025-03-06']\n"
          ]
        }
      ]
    },
    {
      "cell_type": "code",
      "source": [
        "print(re.findall(r'/[\\w/.-]+', text))"
      ],
      "metadata": {
        "colab": {
          "base_uri": "https://localhost:8080/"
        },
        "id": "SYnMjMjOozbS",
        "outputId": "33c6a182-03ff-4063-9c21-d02c0b78ee99"
      },
      "execution_count": 19,
      "outputs": [
        {
          "output_type": "stream",
          "name": "stdout",
          "text": [
            "['//www.onet.pl', '/etc/passwd', '/users/test']\n"
          ]
        }
      ]
    },
    {
      "cell_type": "code",
      "source": [
        "print(re.findall(r'\\b(?:\\d{1,3}\\.){3}\\d{1,3}\\b', text))"
      ],
      "metadata": {
        "colab": {
          "base_uri": "https://localhost:8080/"
        },
        "id": "PVuCBwGqo1QB",
        "outputId": "4225a2f5-c942-4a80-b700-a34704ff6f2e"
      },
      "execution_count": 20,
      "outputs": [
        {
          "output_type": "stream",
          "name": "stdout",
          "text": [
            "['192.168.0.1']\n"
          ]
        }
      ]
    },
    {
      "cell_type": "code",
      "source": [
        "print(re.findall(r'\"(.*?)\"', text))"
      ],
      "metadata": {
        "id": "_O0o5U6To3nH",
        "outputId": "dab7190b-8bce-4686-d5aa-60ac5200f0a2",
        "colab": {
          "base_uri": "https://localhost:8080/"
        }
      },
      "execution_count": 21,
      "outputs": [
        {
          "output_type": "stream",
          "name": "stdout",
          "text": [
            "['Page not found', 'User admin logged in']\n"
          ]
        }
      ]
    },
    {
      "cell_type": "code",
      "source": [
        "print(re.findall(r'^.{4}$', text, re.MULTILINE))"
      ],
      "metadata": {
        "id": "hapWAsXIo5Do",
        "outputId": "6c5fa381-acee-4b1e-cf7f-0f45a852972f",
        "colab": {
          "base_uri": "https://localhost:8080/"
        }
      },
      "execution_count": 22,
      "outputs": [
        {
          "output_type": "stream",
          "name": "stdout",
          "text": [
            "['Ania', 'JOLA', '1000']\n"
          ]
        }
      ]
    }
  ]
}