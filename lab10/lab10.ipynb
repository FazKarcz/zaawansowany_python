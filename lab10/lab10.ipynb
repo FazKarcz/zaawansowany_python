{
  "nbformat": 4,
  "nbformat_minor": 0,
  "metadata": {
    "colab": {
      "provenance": []
    },
    "kernelspec": {
      "name": "python3",
      "display_name": "Python 3"
    },
    "language_info": {
      "name": "python"
    }
  },
  "cells": [
    {
      "cell_type": "markdown",
      "source": [
        "Zad 1"
      ],
      "metadata": {
        "id": "w7wfaA7WdDQf"
      }
    },
    {
      "cell_type": "code",
      "execution_count": null,
      "metadata": {
        "colab": {
          "base_uri": "https://localhost:8080/"
        },
        "id": "zJQTgIApcKUz",
        "outputId": "58477dcc-5700-427f-a16d-b1346fcae651"
      },
      "outputs": [
        {
          "output_type": "stream",
          "name": "stdout",
          "text": [
            "=== Inicjalizacja struktur ===\n",
            "Tablica 'i': 0.7891 s\n",
            "Lista int:   0.1392 s\n",
            "Tablica 'u': 0.4747 s\n",
            "Lista str:   0.0240 s\n",
            "\n",
            "=== Dostęp do elementu (środek) ===\n",
            "Tablica int: 0.0506 s\n",
            "Lista int:   0.0216 s\n",
            "\n",
            "=== Insert 1000 razy na początku ===\n",
            "Tablica int: 0.0010 s\n",
            "Lista int:   0.0031 s\n"
          ]
        }
      ],
      "source": [
        "from timeit import timeit\n",
        "\n",
        "init_array_i_stmt = \"from array import array\\narray('i', range(10000))\"\n",
        "init_list_int_stmt = \"list(range(10000))\"\n",
        "init_array_u_stmt = \"from array import array\\narray('u', ['a'] * 10000)\"\n",
        "init_list_str_stmt = \"['a'] * 10000\"\n",
        "\n",
        "init_array_i = \"\"\"from array import array\n",
        "arr = array('i', range(10000))\"\"\"\n",
        "\n",
        "init_list_int = \"\"\"lst = list(range(10000))\"\"\"\n",
        "\n",
        "init_array_u = \"\"\"from array import array\n",
        "arr = array('u', ['a'] * 10000)\"\"\"\n",
        "\n",
        "init_list_str = \"\"\"lst = ['a'] * 10000\"\"\"\n",
        "\n",
        "stmt_access_arr = \"x = arr[5000]\"\n",
        "stmt_access_lst = \"x = lst[5000]\"\n",
        "\n",
        "stmt_insert_arr = \"\"\"\n",
        "for i in range(1000):\n",
        "    arr.insert(0, i)\n",
        "\"\"\"\n",
        "\n",
        "stmt_insert_lst = \"\"\"\n",
        "for i in range(1000):\n",
        "    lst.insert(0, i)\n",
        "\"\"\"\n",
        "\n",
        "print(\"=== Inicjalizacja struktur ===\")\n",
        "print(\"Tablica 'i':\", f\"{timeit(init_array_i_stmt, number=1000):.4f} s\")\n",
        "print(\"Lista int:  \", f\"{timeit(init_list_int_stmt, number=1000):.4f} s\")\n",
        "print(\"Tablica 'u':\", f\"{timeit(init_array_u_stmt, number=1000):.4f} s\")\n",
        "print(\"Lista str:  \", f\"{timeit(init_list_str_stmt, number=1000):.4f} s\")\n",
        "\n",
        "print(\"\\n=== Dostęp do elementu (środek) ===\")\n",
        "print(\"Tablica int:\", f\"{timeit(stmt_access_arr, init_array_i, number=1_000_000):.4f} s\")\n",
        "print(\"Lista int:  \", f\"{timeit(stmt_access_lst, init_list_int, number=1_000_000):.4f} s\")\n",
        "\n",
        "print(\"\\n=== Insert 1000 razy na początku ===\")\n",
        "print(\"Tablica int:\", f\"{timeit(stmt_insert_arr, init_array_i, number=1):.4f} s\")\n",
        "print(\"Lista int:  \", f\"{timeit(stmt_insert_lst, init_list_int, number=1):.4f} s\")\n"
      ]
    },
    {
      "cell_type": "markdown",
      "source": [
        "Zad 2"
      ],
      "metadata": {
        "id": "cKWBm1TPXM1u"
      }
    },
    {
      "cell_type": "code",
      "source": [
        "from array import array\n",
        "import random\n",
        "from datetime import datetime\n",
        "\n",
        "tab_of_floats = array('f', [random.random() for _ in range(1_000_000)])\n",
        "\n",
        "# Tablica (zapis i odczyt)\n",
        "\n",
        "start = datetime.now()\n",
        "with open('floats_array.bin', 'wb') as file_arr:\n",
        "    tab_of_floats.tofile(file_arr)\n",
        "end = datetime.now()\n",
        "print(f\"Zapis tablicy: {(end - start).total_seconds():.4f} s\")\n",
        "\n",
        "start = datetime.now()\n",
        "tab_of_floats_loaded = array('f')\n",
        "with open('floats_array.bin', 'rb') as file_arr:\n",
        "    tab_of_floats_loaded.fromfile(file_arr, 1_000_000)\n",
        "end = datetime.now()\n",
        "print(f\"Odczyt tablicy: {(end - start).total_seconds():.4f} s\")\n",
        "\n",
        "print(\"-------------------------- \")\n",
        "\n",
        "# LISTA (zapis i odczyt)\n",
        "\n",
        "list_of_floats = [random.random() for _ in range(1_000_000)]\n",
        "\n",
        "start = datetime.now()\n",
        "with open('floats_list.txt', 'w') as file_arr:\n",
        "    file_arr.writelines('\\n'.join([str(x) for x in list_of_floats]))\n",
        "end = datetime.now()\n",
        "print(f\"Zapis listy: {(end - start).total_seconds():.4f} s\")\n",
        "\n",
        "start = datetime.now()\n",
        "with open('floats_list.txt', 'r') as file_list:\n",
        "    list_of_floats_loaded = file_list.readlines()\n",
        "list_of_floats_loaded = [float(x.strip()) for x in list_of_floats_loaded]\n",
        "end = datetime.now()\n",
        "print(f\"Odczyt listy: {(end - start).total_seconds():.4f} s\")\n"
      ],
      "metadata": {
        "colab": {
          "base_uri": "https://localhost:8080/"
        },
        "id": "XJjl9C8PXN_t",
        "outputId": "b317ec2f-e6cb-475d-a0be-1390ae535778"
      },
      "execution_count": null,
      "outputs": [
        {
          "output_type": "stream",
          "name": "stdout",
          "text": [
            "Zapis tablicy: 0.0112 s\n",
            "Odczyt tablicy: 0.0032 s\n",
            "-------------------------- \n",
            "Zapis listy: 3.3674 s\n",
            "Odczyt listy: 0.5623 s\n"
          ]
        }
      ]
    },
    {
      "cell_type": "markdown",
      "source": [
        "Wnioski: Z pomiarów wynika, że zapis i odczyt danych w formacie binarnym za pomocą tablicy (array) jest zdecydowanie szybszy niż operacje na liście w formacie tekstowym. Wynika to z braku potrzeby konwersji danych do i z postaci tekstowej oraz bardziej efektywnego dostępu do surowych bajtów w przypadku tablic. :3"
      ],
      "metadata": {
        "id": "fNNlJMwrZHMX"
      }
    },
    {
      "cell_type": "markdown",
      "source": [
        "Zad 3"
      ],
      "metadata": {
        "id": "ceva7SUCZE32"
      }
    },
    {
      "cell_type": "code",
      "source": [
        "from datetime import datetime, timedelta\n",
        "from dateutil.relativedelta import relativedelta\n",
        "\n",
        "def przywitanie(data):\n",
        "    data_urodzenia = datetime.strptime(data, '%Y-%m-%d').date()\n",
        "    dzisiaj = datetime.today().date()\n",
        "\n",
        "    wiek = relativedelta(dzisiaj, data_urodzenia)\n",
        "    dni_od_narodzin = (dzisiaj - data_urodzenia).days\n",
        "\n",
        "    najblizsze_urodziny = data_urodzenia.replace(year=dzisiaj.year)\n",
        "    if najblizsze_urodziny < dzisiaj:\n",
        "        najblizsze_urodziny = najblizsze_urodziny.replace(year=dzisiaj.year + 1)\n",
        "\n",
        "    do_urodzin = relativedelta(najblizsze_urodziny, dzisiaj)\n",
        "\n",
        "    poprzednie_urodziny = data_urodzenia.replace(year=dzisiaj.year)\n",
        "    if poprzednie_urodziny > dzisiaj:\n",
        "        poprzednie_urodziny = poprzednie_urodziny.replace(year=dzisiaj.year - 1)\n",
        "\n",
        "    od_poprzednich = relativedelta(dzisiaj, poprzednie_urodziny)\n",
        "\n",
        "    komunikat = (\n",
        "        f\"Witaj! Na dzień dzisiejszy masz {wiek.years} lat oraz {wiek.days} dni. \"\n",
        "        f\"Razem daje to imponujące {dni_od_narodzin} dni!\\n\"\n",
        "        f\"Twoje najbliższe urodziny będą miały miejsce w dniu {najblizsze_urodziny}, \"\n",
        "        f\"czyli za {do_urodzin.months} miesięcy oraz {do_urodzin.days} dni.\\n\"\n",
        "        f\"Od poprzednich urodzin minęło {od_poprzednich.months} miesięcy i {od_poprzednich.days} dni.\"\n",
        "    )\n",
        "\n",
        "    print(komunikat)\n",
        "\n",
        "\n",
        "przywitanie(\"2001-04-05\")"
      ],
      "metadata": {
        "id": "NdffqfZhZGBm",
        "colab": {
          "base_uri": "https://localhost:8080/"
        },
        "outputId": "d263aed8-9eef-46d1-8aee-c439e96d566d"
      },
      "execution_count": 4,
      "outputs": [
        {
          "output_type": "stream",
          "name": "stdout",
          "text": [
            "Witaj! Na dzień dzisiejszy masz 24 lat oraz 14 dni. Razem daje to imponujące 8810 dni!\n",
            "Twoje najbliższe urodziny będą miały miejsce w dniu 2026-04-05, czyli za 10 miesięcy oraz 17 dni.\n",
            "Od poprzednich urodzin minęło 1 miesięcy i 14 dni.\n"
          ]
        }
      ]
    },
    {
      "cell_type": "markdown",
      "source": [
        "Zad 4"
      ],
      "metadata": {
        "id": "G4MKBHIPi1TZ"
      }
    },
    {
      "cell_type": "code",
      "source": [
        "import csv\n",
        "from datetime import datetime\n",
        "\n",
        "with open('zamowienia.csv', newline='', encoding='utf-8') as plik:\n",
        "    czytnik = csv.reader(plik, delimiter=';')\n",
        "    naglowki = next(czytnik)\n",
        "    indeks_daty = naglowki.index('Data zamowienia')\n",
        "\n",
        "    daty = []\n",
        "    for wiersz in czytnik:\n",
        "        data_str = wiersz[indeks_daty]\n",
        "        try:\n",
        "            data = datetime.strptime(data_str, '%Y-%m-%d').date()\n",
        "        except ValueError:\n",
        "            data = datetime.strptime(data_str, '%d.%m.%Y').date()\n",
        "        daty.append(data)\n",
        "\n",
        "najstarsza = min(daty)\n",
        "najnowsza = max(daty)\n",
        "roznica = (najnowsza - najstarsza).days\n",
        "\n",
        "print(f\"Najstarsza data: {najstarsza}\")\n",
        "print(f\"Najnowsza data: {najnowsza}\")\n",
        "print(f\"Różnica w dniach: {roznica}\")\n"
      ],
      "metadata": {
        "colab": {
          "base_uri": "https://localhost:8080/"
        },
        "id": "Sj-vpnrCi3Rb",
        "outputId": "f9709a30-09d3-4316-af76-05487dcb3197"
      },
      "execution_count": 6,
      "outputs": [
        {
          "output_type": "stream",
          "name": "stdout",
          "text": [
            "Najstarsza data: 2003-07-10\n",
            "Najnowsza data: 2005-05-01\n",
            "Różnica w dniach: 661\n"
          ]
        }
      ]
    }
  ]
}