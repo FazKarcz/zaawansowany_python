{
  "nbformat": 4,
  "nbformat_minor": 0,
  "metadata": {
    "colab": {
      "provenance": []
    },
    "kernelspec": {
      "name": "python3",
      "display_name": "Python 3"
    },
    "language_info": {
      "name": "python"
    }
  },
  "cells": [
    {
      "cell_type": "markdown",
      "source": [
        "Zad 1"
      ],
      "metadata": {
        "id": "GkNgUVlMlpoK"
      }
    },
    {
      "cell_type": "code",
      "execution_count": 1,
      "metadata": {
        "colab": {
          "base_uri": "https://localhost:8080/"
        },
        "id": "n6jwZfzllnuI",
        "outputId": "fe277b47-7e24-47f9-b6a4-f426590e1b1f"
      },
      "outputs": [
        {
          "output_type": "stream",
          "name": "stdout",
          "text": [
            "111\n",
            "0b1101111\n",
            "111\n",
            "0x6f\n",
            "7\n",
            "73\n",
            "273\n"
          ]
        }
      ],
      "source": [
        "binary = '111'\n",
        "\n",
        "print(binary)                        # Wypisze: oryginalny ciąg znaków.\n",
        "print(bin(int(binary)))              # Wypisze: konwertuje '111' na liczbę całkowitą (dziesiętnie: 111), potem binarnie: 0b1101111.\n",
        "print(int(binary))                   # Wypisze: domyślnie traktuje jako liczba dziesiętna.\n",
        "print(hex(int(binary)))              # Wypisze: szesnastkowo: 111 dziesiętnie to 6F heksadecymalnie.\n",
        "print(int(binary, base=2))           # Wypisze: traktuje '111' jako liczbę binarną: 1\\*4 + 1\\*2 + 1 = 7.\n",
        "print(int(binary, base=8))           # Wypisze: '111' jako ósemkowo: 1\\*64 + 1\\*8 + 1 = 73.\n",
        "print(int(binary, base=16))          # Wypisze: '111' jako szesnastkowo: 1\\*256 + 1\\*16 + 1 = 273."
      ]
    },
    {
      "cell_type": "markdown",
      "source": [
        "Zad 3"
      ],
      "metadata": {
        "id": "sT1BDCzznSiO"
      }
    },
    {
      "cell_type": "code",
      "source": [
        "import threading\n",
        "import requests\n",
        "\n",
        "urls = [\n",
        "    \"https://www.python.org\",\n",
        "    \"https://www.wikipedia.org\",\n",
        "    \"https://www.openai.com\",\n",
        "    \"https://www.google.com\",\n",
        "    \"https://www.github.com\"\n",
        "]\n",
        "\n",
        "def fetch_and_save(url):\n",
        "    try:\n",
        "        response = requests.get(url)\n",
        "        filename = url.split(\"//\")[1].split(\".\")[0] + \".html\"\n",
        "        with open(filename, 'w', encoding='utf-8') as f:\n",
        "            f.write(response.text)\n",
        "        print(f\"[DONE] Zakończono pobieranie: {url}\")\n",
        "    except Exception as e:\n",
        "        print(f\"[ERROR] Problem z {url}: {e}\")\n",
        "\n",
        "threads = []\n",
        "\n",
        "for url in urls:\n",
        "    thread = threading.Thread(target=fetch_and_save, args=(url,))\n",
        "    threads.append(thread)\n",
        "    thread.start()\n",
        "\n",
        "for thread in threads:\n",
        "    thread.join()\n",
        "\n",
        "print(\"Wszystkie strony zostały pobrane.\")\n"
      ],
      "metadata": {
        "colab": {
          "base_uri": "https://localhost:8080/"
        },
        "id": "HTEWo2wTm-kO",
        "outputId": "6265b1dc-a4a1-4b02-9a0b-68851509fb09"
      },
      "execution_count": 4,
      "outputs": [
        {
          "output_type": "stream",
          "name": "stdout",
          "text": [
            "[DONE] Zakończono pobieranie: https://www.python.org\n",
            "[DONE] Zakończono pobieranie: https://www.google.com\n",
            "[DONE] Zakończono pobieranie: https://www.github.com\n",
            "[DONE] Zakończono pobieranie: https://www.openai.com\n",
            "[DONE] Zakończono pobieranie: https://www.wikipedia.org\n",
            "Wszystkie strony zostały pobrane.\n"
          ]
        }
      ]
    },
    {
      "cell_type": "markdown",
      "source": [
        "Zad 4"
      ],
      "metadata": {
        "id": "6uHgNZISni59"
      }
    },
    {
      "cell_type": "code",
      "source": [
        "import threading\n",
        "import time\n",
        "import psutil\n",
        "\n",
        "\n",
        "class MemoryMonitorThread(threading.Thread):\n",
        "    def __init__(self):\n",
        "        super().__init__()\n",
        "        self._stop_event = threading.Event()\n",
        "\n",
        "    def stop(self):\n",
        "        self._stop_event.set()\n",
        "\n",
        "    def run(self):\n",
        "        while not self._stop_event.is_set():\n",
        "            memory_info = psutil.virtual_memory()\n",
        "            print(f\"\\rRAM Usage: {memory_info.percent}%\", end=\"\")\n",
        "            time.sleep(5)\n"
      ],
      "metadata": {
        "id": "RkUFTgF7nkQJ"
      },
      "execution_count": 6,
      "outputs": []
    },
    {
      "cell_type": "code",
      "source": [
        "if __name__ == \"__main__\":\n",
        "    monitor = MemoryMonitorThread()\n",
        "    monitor.start()\n",
        "\n",
        "    try:\n",
        "        # Monitoruj przez 20 sekund (np. testowo)\n",
        "        time.sleep(20)\n",
        "    finally:\n",
        "        monitor.stop()\n",
        "        monitor.join()\n",
        "        print(\"\\nMonitoring pamięci RAM zakończony.\")"
      ],
      "metadata": {
        "colab": {
          "base_uri": "https://localhost:8080/"
        },
        "id": "Axr7h55toDoB",
        "outputId": "92519cca-602e-49a2-cd92-c093c59a728c"
      },
      "execution_count": 7,
      "outputs": [
        {
          "output_type": "stream",
          "name": "stdout",
          "text": [
            "RAM Usage: 7.9%\n",
            "Monitoring pamięci RAM zakończony.\n"
          ]
        }
      ]
    },
    {
      "cell_type": "code",
      "source": [
        "import threading\n",
        "import time\n",
        "from tqdm import tqdm\n",
        "import os\n",
        "\n",
        "def read_file_with_progress(filename, thread_id):\n",
        "    try:\n",
        "        with open(filename, 'r', encoding='utf-8') as f:\n",
        "            lines = f.readlines()\n",
        "\n",
        "        total_lines = len(lines)\n",
        "        print(f\"[Wątek {thread_id}] Rozpoczynam odczyt pliku: {filename} ({total_lines} linii)\")\n",
        "\n",
        "        for line in tqdm(lines, desc=f\"Thread {thread_id} ({filename})\", position=thread_id):\n",
        "            time.sleep(0.05)\n",
        "\n",
        "        print(f\"[Wątek {thread_id}] Zakończono odczyt pliku: {filename}\")\n",
        "\n",
        "    except Exception as e:\n",
        "        print(f\"[Wątek {thread_id}] Błąd podczas odczytu pliku {filename}: {e}\")\n",
        "\n",
        "#Tworzenia plików do testów\n",
        "def create_test_files():\n",
        "    for i in range(1, 5):\n",
        "        filename = f\"test_file_{i}.txt\"\n",
        "        with open(filename, 'w', encoding='utf-8') as f:\n",
        "            for j in range(50):\n",
        "                f.write(f\"Linia {j + 1} w pliku {filename}\\n\")\n",
        "\n",
        "if __name__ == \"__main__\":\n",
        "    create_test_files()\n",
        "\n",
        "    files = [f\"test_file_{i}.txt\" for i in range(1, 5)]\n",
        "    threads = []\n",
        "\n",
        "    for idx, file in enumerate(files):\n",
        "        thread = threading.Thread(target=read_file_with_progress, args=(file, idx))\n",
        "        threads.append(thread)\n",
        "        thread.start()\n",
        "\n",
        "    for thread in threads:\n",
        "        thread.join()\n",
        "\n",
        "    print(\"\\nWszystkie wątki zakończyły działanie.\")\n"
      ],
      "metadata": {
        "colab": {
          "base_uri": "https://localhost:8080/"
        },
        "id": "ysf3BwPgoW7U",
        "outputId": "544d5cca-d9bc-4dcc-dffb-8e5075dfb7f9"
      },
      "execution_count": 8,
      "outputs": [
        {
          "output_type": "stream",
          "name": "stdout",
          "text": [
            "[Wątek 1] Rozpoczynam odczyt pliku: test_file_2.txt (50 linii)\n",
            "[Wątek 0] Rozpoczynam odczyt pliku: test_file_1.txt (50 linii)\n",
            "[Wątek 2] Rozpoczynam odczyt pliku: test_file_3.txt (50 linii)\n",
            "[Wątek 3] Rozpoczynam odczyt pliku: test_file_4.txt (50 linii)\n"
          ]
        },
        {
          "output_type": "stream",
          "name": "stderr",
          "text": [
            "\n",
            "Thread 0 (test_file_1.txt):   0%|          | 0/50 [00:00<?, ?it/s]\n",
            "\n",
            "\n",
            "Thread 3 (test_file_4.txt):   0%|          | 0/50 [00:00<?, ?it/s]\u001b[A\u001b[A\u001b[A\n",
            "\n",
            "Thread 2 (test_file_3.txt):   0%|          | 0/50 [00:00<?, ?it/s]\u001b[A\u001b[A\n",
            "Thread 0 (test_file_1.txt):   4%|▍         | 2/50 [00:00<00:02, 19.66it/s]\n",
            "\n",
            "\n",
            "Thread 3 (test_file_4.txt):   4%|▍         | 2/50 [00:00<00:02, 19.94it/s]\u001b[A\u001b[A\u001b[A\n",
            "\n",
            "Thread 2 (test_file_3.txt):   4%|▍         | 2/50 [00:00<00:02, 19.95it/s]\u001b[A\u001b[A\n",
            "Thread 0 (test_file_1.txt):   8%|▊         | 4/50 [00:00<00:02, 19.70it/s]\n",
            "\n",
            "\n",
            "Thread 3 (test_file_4.txt):   8%|▊         | 4/50 [00:00<00:02, 19.70it/s]\u001b[A\u001b[A\u001b[A\n",
            "\n",
            "Thread 2 (test_file_3.txt):   8%|▊         | 4/50 [00:00<00:02, 19.71it/s]\u001b[A\u001b[A\n",
            "Thread 0 (test_file_1.txt):  12%|█▏        | 6/50 [00:00<00:02, 19.54it/s]\n",
            "\n",
            "\n",
            "Thread 3 (test_file_4.txt):  12%|█▏        | 6/50 [00:00<00:02, 19.65it/s]\u001b[A\u001b[A\u001b[A\n",
            "\n",
            "Thread 2 (test_file_3.txt):  12%|█▏        | 6/50 [00:00<00:02, 19.67it/s]\u001b[A\u001b[A\n",
            "Thread 0 (test_file_1.txt):  16%|█▌        | 8/50 [00:00<00:02, 19.54it/s]\n",
            "\n",
            "\n",
            "Thread 3 (test_file_4.txt):  16%|█▌        | 8/50 [00:00<00:02, 19.63it/s]\u001b[A\u001b[A\u001b[A\n",
            "\n",
            "Thread 2 (test_file_3.txt):  16%|█▌        | 8/50 [00:00<00:02, 19.57it/s]\u001b[A\u001b[A\n",
            "Thread 0 (test_file_1.txt):  20%|██        | 10/50 [00:00<00:02, 19.40it/s]\n",
            "\n",
            "\n",
            "Thread 3 (test_file_4.txt):  20%|██        | 10/50 [00:00<00:02, 19.44it/s]\u001b[A\u001b[A\u001b[A\n",
            "\n",
            "Thread 2 (test_file_3.txt):  20%|██        | 10/50 [00:00<00:02, 19.41it/s]\u001b[A\u001b[A\n",
            "Thread 0 (test_file_1.txt):  24%|██▍       | 12/50 [00:00<00:01, 19.39it/s]\n",
            "\n",
            "\n",
            "Thread 3 (test_file_4.txt):  24%|██▍       | 12/50 [00:00<00:01, 19.49it/s]\u001b[A\u001b[A\u001b[A\n",
            "\n",
            "Thread 2 (test_file_3.txt):  24%|██▍       | 12/50 [00:00<00:01, 19.49it/s]\u001b[A\u001b[A\n",
            "Thread 0 (test_file_1.txt):  28%|██▊       | 14/50 [00:00<00:01, 19.38it/s]\n",
            "\n",
            "\n",
            "Thread 3 (test_file_4.txt):  28%|██▊       | 14/50 [00:00<00:01, 19.45it/s]\u001b[A\u001b[A\u001b[A\n",
            "\n",
            "Thread 2 (test_file_3.txt):  28%|██▊       | 14/50 [00:00<00:01, 19.47it/s]\u001b[A\u001b[A\n",
            "Thread 0 (test_file_1.txt):  32%|███▏      | 16/50 [00:00<00:01, 19.46it/s]\n",
            "\n",
            "\n",
            "Thread 3 (test_file_4.txt):  32%|███▏      | 16/50 [00:00<00:01, 19.53it/s]\u001b[A\u001b[A\u001b[A\n",
            "\n",
            "Thread 2 (test_file_3.txt):  32%|███▏      | 16/50 [00:00<00:01, 19.54it/s]\u001b[A\u001b[A\n",
            "Thread 0 (test_file_1.txt):  36%|███▌      | 18/50 [00:00<00:01, 19.44it/s]\n",
            "\n",
            "\n",
            "Thread 3 (test_file_4.txt):  36%|███▌      | 18/50 [00:00<00:01, 19.38it/s]\u001b[A\u001b[A\u001b[A\n",
            "\n",
            "Thread 2 (test_file_3.txt):  36%|███▌      | 18/50 [00:00<00:01, 19.42it/s]\u001b[A\u001b[A\n",
            "Thread 0 (test_file_1.txt):  40%|████      | 20/50 [00:01<00:01, 19.39it/s]\n",
            "\n",
            "\n",
            "Thread 3 (test_file_4.txt):  40%|████      | 20/50 [00:01<00:01, 19.42it/s]\u001b[A\u001b[A\u001b[A\n",
            "\n",
            "Thread 2 (test_file_3.txt):  40%|████      | 20/50 [00:01<00:01, 19.41it/s]\u001b[A\u001b[A\n",
            "Thread 0 (test_file_1.txt):  44%|████▍     | 22/50 [00:01<00:01, 19.37it/s]\n",
            "\n",
            "\n",
            "Thread 3 (test_file_4.txt):  44%|████▍     | 22/50 [00:01<00:01, 19.38it/s]\u001b[A\u001b[A\u001b[A\n",
            "\n",
            "Thread 2 (test_file_3.txt):  44%|████▍     | 22/50 [00:01<00:01, 19.41it/s]\u001b[A\u001b[A\n",
            "Thread 0 (test_file_1.txt):  48%|████▊     | 24/50 [00:01<00:01, 19.35it/s]\n",
            "\n",
            "\n",
            "Thread 3 (test_file_4.txt):  48%|████▊     | 24/50 [00:01<00:01, 19.36it/s]\u001b[A\u001b[A\u001b[A\n",
            "\n",
            "Thread 2 (test_file_3.txt):  48%|████▊     | 24/50 [00:01<00:01, 19.38it/s]\u001b[A\u001b[A\n",
            "Thread 0 (test_file_1.txt):  52%|█████▏    | 26/50 [00:01<00:01, 19.40it/s]\n",
            "\n",
            "\n",
            "Thread 3 (test_file_4.txt):  52%|█████▏    | 26/50 [00:01<00:01, 19.42it/s]\u001b[A\u001b[A\u001b[A\n",
            "\n",
            "Thread 2 (test_file_3.txt):  52%|█████▏    | 26/50 [00:01<00:01, 19.26it/s]\u001b[A\u001b[A\n",
            "Thread 0 (test_file_1.txt):  56%|█████▌    | 28/50 [00:01<00:01, 19.41it/s]\n",
            "\n",
            "\n",
            "Thread 3 (test_file_4.txt):  56%|█████▌    | 28/50 [00:01<00:01, 19.36it/s]\u001b[A\u001b[A\u001b[A\n",
            "\n",
            "Thread 2 (test_file_3.txt):  56%|█████▌    | 28/50 [00:01<00:01, 19.35it/s]\u001b[A\u001b[A\n",
            "Thread 0 (test_file_1.txt):  60%|██████    | 30/50 [00:01<00:01, 19.39it/s]\n",
            "\n",
            "\n",
            "Thread 3 (test_file_4.txt):  60%|██████    | 30/50 [00:01<00:01, 19.36it/s]\u001b[A\u001b[A\u001b[A\n",
            "\n",
            "Thread 2 (test_file_3.txt):  60%|██████    | 30/50 [00:01<00:01, 19.25it/s]\u001b[A\u001b[A\n",
            "Thread 0 (test_file_1.txt):  64%|██████▍   | 32/50 [00:01<00:00, 19.44it/s]\n",
            "\n",
            "\n",
            "Thread 3 (test_file_4.txt):  64%|██████▍   | 32/50 [00:01<00:00, 19.42it/s]\u001b[A\u001b[A\u001b[A\n",
            "\n",
            "Thread 2 (test_file_3.txt):  64%|██████▍   | 32/50 [00:01<00:00, 19.29it/s]\u001b[A\u001b[A\n",
            "Thread 0 (test_file_1.txt):  68%|██████▊   | 34/50 [00:01<00:00, 19.47it/s]\n",
            "\n",
            "\n",
            "Thread 3 (test_file_4.txt):  68%|██████▊   | 34/50 [00:01<00:00, 19.41it/s]\u001b[A\u001b[A\u001b[A\n",
            "\n",
            "Thread 2 (test_file_3.txt):  68%|██████▊   | 34/50 [00:01<00:00, 19.36it/s]\u001b[A\u001b[A\n",
            "Thread 0 (test_file_1.txt):  72%|███████▏  | 36/50 [00:01<00:00, 19.45it/s]\n",
            "\n",
            "\n",
            "Thread 3 (test_file_4.txt):  72%|███████▏  | 36/50 [00:01<00:00, 19.47it/s]\u001b[A\u001b[A\u001b[A\n",
            "\n",
            "Thread 2 (test_file_3.txt):  72%|███████▏  | 36/50 [00:01<00:00, 19.39it/s]\u001b[A\u001b[A\n",
            "Thread 0 (test_file_1.txt):  76%|███████▌  | 38/50 [00:01<00:00, 19.46it/s]\n",
            "\n",
            "\n",
            "Thread 3 (test_file_4.txt):  76%|███████▌  | 38/50 [00:01<00:00, 19.52it/s]\u001b[A\u001b[A\u001b[A\n",
            "\n",
            "Thread 2 (test_file_3.txt):  76%|███████▌  | 38/50 [00:01<00:00, 19.43it/s]\u001b[A\u001b[A\n",
            "Thread 0 (test_file_1.txt):  80%|████████  | 40/50 [00:02<00:00, 19.42it/s]\n",
            "\n",
            "\n",
            "Thread 3 (test_file_4.txt):  80%|████████  | 40/50 [00:02<00:00, 19.51it/s]\u001b[A\u001b[A\u001b[A\n",
            "\n",
            "Thread 2 (test_file_3.txt):  80%|████████  | 40/50 [00:02<00:00, 19.46it/s]\u001b[A\u001b[A\n",
            "Thread 0 (test_file_1.txt):  84%|████████▍ | 42/50 [00:02<00:00, 19.43it/s]\n",
            "\n",
            "\n",
            "Thread 3 (test_file_4.txt):  84%|████████▍ | 42/50 [00:02<00:00, 19.36it/s]\u001b[A\u001b[A\u001b[A\n",
            "\n",
            "Thread 2 (test_file_3.txt):  84%|████████▍ | 42/50 [00:02<00:00, 19.50it/s]\u001b[A\u001b[A\n",
            "Thread 0 (test_file_1.txt):  88%|████████▊ | 44/50 [00:02<00:00, 19.41it/s]\n",
            "\n",
            "\n",
            "Thread 3 (test_file_4.txt):  88%|████████▊ | 44/50 [00:02<00:00, 19.39it/s]\u001b[A\u001b[A\u001b[A\n",
            "\n",
            "Thread 2 (test_file_3.txt):  88%|████████▊ | 44/50 [00:02<00:00, 19.54it/s]\u001b[A\u001b[A\n",
            "Thread 0 (test_file_1.txt):  92%|█████████▏| 46/50 [00:02<00:00, 19.40it/s]\n",
            "\n",
            "\n",
            "Thread 3 (test_file_4.txt):  92%|█████████▏| 46/50 [00:02<00:00, 19.41it/s]\u001b[A\u001b[A\u001b[A\n",
            "\n",
            "Thread 2 (test_file_3.txt):  92%|█████████▏| 46/50 [00:02<00:00, 19.54it/s]\u001b[A\u001b[A\n",
            "Thread 0 (test_file_1.txt):  96%|█████████▌| 48/50 [00:02<00:00, 19.36it/s]\n",
            "\n",
            "\n",
            "Thread 3 (test_file_4.txt):  96%|█████████▌| 48/50 [00:02<00:00, 19.27it/s]\u001b[A\u001b[A\u001b[A\n",
            "\n",
            "Thread 2 (test_file_3.txt):  96%|█████████▌| 48/50 [00:02<00:00, 19.30it/s]\u001b[A\u001b[A\n",
            "Thread 1 (test_file_2.txt): 100%|██████████| 50/50 [00:02<00:00, 19.41it/s]\n",
            "Thread 0 (test_file_1.txt): 100%|██████████| 50/50 [00:02<00:00, 19.41it/s]\n",
            "\n",
            "\n",
            "\n",
            "Thread 3 (test_file_4.txt): 100%|██████████| 50/50 [00:02<00:00, 19.42it/s]\n",
            "\n",
            "\n",
            "Thread 2 (test_file_3.txt): 100%|██████████| 50/50 [00:02<00:00, 19.40it/s]"
          ]
        },
        {
          "output_type": "stream",
          "name": "stdout",
          "text": [
            "[Wątek 1] Zakończono odczyt pliku: test_file_2.txt\n",
            "[Wątek 0] Zakończono odczyt pliku: test_file_1.txt\n",
            "[Wątek 3] Zakończono odczyt pliku: test_file_4.txt\n",
            "[Wątek 2] Zakończono odczyt pliku: test_file_3.txt\n",
            "\n",
            "Wszystkie wątki zakończyły działanie.\n"
          ]
        },
        {
          "output_type": "stream",
          "name": "stderr",
          "text": [
            "\n"
          ]
        }
      ]
    }
  ]
}