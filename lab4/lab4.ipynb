{
  "nbformat": 4,
  "nbformat_minor": 0,
  "metadata": {
    "colab": {
      "provenance": []
    },
    "kernelspec": {
      "name": "python3",
      "display_name": "Python 3"
    },
    "language_info": {
      "name": "python"
    }
  },
  "cells": [
    {
      "cell_type": "markdown",
      "source": [
        "Zad 1"
      ],
      "metadata": {
        "id": "or5t8KU1mb-z"
      }
    },
    {
      "cell_type": "code",
      "execution_count": 1,
      "metadata": {
        "id": "l7Kf8JnLkcq3"
      },
      "outputs": [],
      "source": [
        "from datetime import datetime\n",
        "from functools import wraps\n",
        "\n",
        "def loguj_wywolanie():\n",
        "    def dekorator(funkcja):\n",
        "        @wraps(funkcja)\n",
        "        def opakowanie(*args, **kwargs):\n",
        "            czas = datetime.now().strftime('%Y-%m-%d %H:%M:%S')\n",
        "            nazwa_funkcji = funkcja.__name__\n",
        "            args_str = ', '.join(repr(a) for a in args)\n",
        "            kwargs_str = ', '.join(f\"{k}={v!r}\" for k, v in kwargs.items())\n",
        "            wszystkie_arg = ', '.join(filter(None, [args_str, kwargs_str]))\n",
        "            print(f\"[{czas}] {nazwa_funkcji}({wszystkie_arg})\")\n",
        "            return funkcja(*args, **kwargs)\n",
        "        return opakowanie\n",
        "    return dekorator\n"
      ]
    },
    {
      "cell_type": "code",
      "source": [
        "@loguj_wywolanie()\n",
        "def przyklad(a, b, test='domyslny'):\n",
        "    print(\"WoW\")\n",
        "\n",
        "przyklad(1, 2, test='inny')\n"
      ],
      "metadata": {
        "colab": {
          "base_uri": "https://localhost:8080/",
          "height": 0
        },
        "id": "F09z25FVmXWT",
        "outputId": "12022f16-99b9-4c64-e68b-74d58b900670"
      },
      "execution_count": 3,
      "outputs": [
        {
          "output_type": "stream",
          "name": "stdout",
          "text": [
            "[2025-05-19 08:12:13] przyklad(1, 2, test='inny')\n",
            "WoW\n"
          ]
        }
      ]
    },
    {
      "cell_type": "markdown",
      "source": [
        "Zad 2"
      ],
      "metadata": {
        "id": "BItcisR6md5s"
      }
    },
    {
      "cell_type": "code",
      "source": [
        "from functools import wraps\n",
        "\n",
        "def require_permission(required_permission):\n",
        "    def decorator(func):\n",
        "        @wraps(func)\n",
        "        def wrapper(user, *args, **kwargs):\n",
        "            if not hasattr(user, 'has_permission') or not callable(user.has_permission):\n",
        "                raise TypeError(\"Obiekt nie ma metody 'has_permission'\")\n",
        "            if user.has_permission(required_permission):\n",
        "                return func(user, *args, **kwargs)\n",
        "            else:\n",
        "                print(f\"Brak uprawnień: wymagane '{required_permission}'\")\n",
        "        return wrapper\n",
        "    return decorator\n"
      ],
      "metadata": {
        "id": "EbwLAqDamewn"
      },
      "execution_count": 4,
      "outputs": []
    },
    {
      "cell_type": "code",
      "source": [
        "class User:\n",
        "    def __init__(self, permissions):\n",
        "        self.permissions = permissions\n",
        "\n",
        "    def has_permission(self, permission):\n",
        "        return permission in self.permissions\n",
        "\n",
        "@require_permission('admin')\n",
        "def delete_user(user, user_id):\n",
        "    print(f\"User {user_id} deleted\")\n",
        "\n",
        "admin_user = User(permissions=['admin'])\n",
        "normal_user = User(permissions=['read'])\n",
        "\n",
        "delete_user(admin_user, 123)\n",
        "delete_user(normal_user, 456)\n"
      ],
      "metadata": {
        "colab": {
          "base_uri": "https://localhost:8080/",
          "height": 0
        },
        "id": "JFhCPF_lm9bv",
        "outputId": "7714c371-9626-4f52-b76f-5d52fe76265e"
      },
      "execution_count": 5,
      "outputs": [
        {
          "output_type": "stream",
          "name": "stdout",
          "text": [
            "User 123 deleted\n",
            "Brak uprawnień: wymagane 'admin'\n"
          ]
        }
      ]
    },
    {
      "cell_type": "markdown",
      "source": [
        "Zad 3"
      ],
      "metadata": {
        "id": "-GF8JN7OnGLA"
      }
    },
    {
      "cell_type": "code",
      "source": [
        "def Singleton(cls):\n",
        "    instances = {}\n",
        "\n",
        "    def get_instance(*args, **kwargs):\n",
        "        if cls not in instances:\n",
        "            instances[cls] = cls(*args, **kwargs)\n",
        "        return instances[cls]\n",
        "\n",
        "    return get_instance\n"
      ],
      "metadata": {
        "id": "R50OQtpnnH_b"
      },
      "execution_count": 6,
      "outputs": []
    },
    {
      "cell_type": "code",
      "source": [
        "@Singleton\n",
        "class DatabaseConnection:\n",
        "    def __init__(self):\n",
        "        print(\"Tworzenie połączenia z bazą danych...\")\n",
        "\n",
        "conn1 = DatabaseConnection()\n",
        "conn2 = DatabaseConnection()\n",
        "\n",
        "print(conn1 is conn2)"
      ],
      "metadata": {
        "colab": {
          "base_uri": "https://localhost:8080/",
          "height": 0
        },
        "id": "MGCCjU3CnKNo",
        "outputId": "d6ece8fa-ff21-4912-8870-86b2797ec2f2"
      },
      "execution_count": 8,
      "outputs": [
        {
          "output_type": "stream",
          "name": "stdout",
          "text": [
            "Tworzenie połączenia z bazą danych...\n",
            "True\n"
          ]
        }
      ]
    }
  ]
}