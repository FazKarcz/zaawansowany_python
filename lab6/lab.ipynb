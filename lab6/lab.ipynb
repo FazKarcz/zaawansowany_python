{
  "nbformat": 4,
  "nbformat_minor": 0,
  "metadata": {
    "colab": {
      "provenance": []
    },
    "kernelspec": {
      "name": "python3",
      "display_name": "Python 3"
    },
    "language_info": {
      "name": "python"
    }
  },
  "cells": [
    {
      "cell_type": "code",
      "execution_count": 2,
      "metadata": {
        "id": "VsR9A-7JYnuc"
      },
      "outputs": [],
      "source": [
        "text = r\"\"\"Adam Malinowski\n",
        ".gitignore\n",
        "2023-01-17 error \"Page not found\"\n",
        "[2025-03-06] NOTICE \"User admin logged in\"\n",
        "Code 3300 was invalid\n",
        "https://www.onet.pl 200 176353\n",
        "File /etc/passwd: permission denied\n",
        "Józef\n",
        "C:\\Program Files\n",
        "Ania\n",
        "JOLA\n",
        "marek\n",
        "Kowalski\n",
        "bodo363\n",
        "PIN 0000 was invalid\n",
        "/users/test is not a valid directory name\n",
        "192.168.0.1 access denied\n",
        "1000\n",
        "666\n",
        "\"\"\""
      ]
    },
    {
      "cell_type": "markdown",
      "source": [
        "Zad 1"
      ],
      "metadata": {
        "id": "oF3OOhJueItr"
      }
    },
    {
      "cell_type": "code",
      "source": [
        "import re\n",
        "\n",
        "numbers = re.findall(r'\\d+',text)\n",
        "print(\"1.1: \",numbers)\n",
        "\n",
        "numbers2 = re.findall(r'\\d{2,}',text)\n",
        "print(\"1.2: \",numbers2)\n",
        "\n",
        "numbers3 = re.findall(r'\\d*00\\d*',text)\n",
        "print(\"1.3: \",numbers3)\n",
        "\n",
        "words = re.findall(r'\\b[^\\d\\s]+\\b',text)\n",
        "print(\"1.4: \",words)"
      ],
      "metadata": {
        "colab": {
          "base_uri": "https://localhost:8080/"
        },
        "id": "VpzZa6H5ZDvN",
        "outputId": "4c58a4d2-c5b5-4014-c80a-ad58d9c88b5f"
      },
      "execution_count": 3,
      "outputs": [
        {
          "output_type": "stream",
          "name": "stdout",
          "text": [
            "1.1:  ['2023', '01', '17', '2025', '03', '06', '3300', '200', '176353', '363', '0000', '192', '168', '0', '1', '1000', '666']\n",
            "1.2:  ['2023', '01', '17', '2025', '03', '06', '3300', '200', '176353', '363', '0000', '192', '168', '1000', '666']\n",
            "1.3:  ['3300', '200', '0000', '1000']\n",
            "1.4:  ['Adam', 'Malinowski', 'gitignore', '-', '-', 'error', 'Page', 'not', 'found', '-', '-', 'NOTICE', 'User', 'admin', 'logged', 'in', 'Code', 'was', 'invalid', 'https://www.onet.pl', 'File', 'etc/passwd', 'permission', 'denied', 'Józef', 'C:\\\\Program', 'Files', 'Ania', 'JOLA', 'marek', 'Kowalski', 'PIN', 'was', 'invalid', 'users/test', 'is', 'not', 'a', 'valid', 'directory', 'name', '.', '.', '.', 'access', 'denied']\n"
          ]
        }
      ]
    },
    {
      "cell_type": "markdown",
      "source": [
        "Zad 3"
      ],
      "metadata": {
        "id": "gNNqkrX3eKer"
      }
    },
    {
      "cell_type": "code",
      "source": [
        "tekst = \"\"\"\n",
        "Komputer: 3999.00 PLN, myszka: 30.0$, monitor: 399.00 Euro, podkładka: 39 zł\n",
        "\"\"\"\n",
        "\n",
        "prices = re.findall(r'\\d+\\.\\d+|\\d+',tekst)\n",
        "print(prices)"
      ],
      "metadata": {
        "colab": {
          "base_uri": "https://localhost:8080/"
        },
        "id": "97H-h_2DeMPz",
        "outputId": "0e3a0155-addb-4990-88e9-411c65433e7c"
      },
      "execution_count": 4,
      "outputs": [
        {
          "output_type": "stream",
          "name": "stdout",
          "text": [
            "['3999.00', '30.0', '399.00', '39']\n"
          ]
        }
      ]
    },
    {
      "cell_type": "markdown",
      "source": [
        "Zad 2\n"
      ],
      "metadata": {
        "id": "vX7W_AGxfM-r"
      }
    },
    {
      "cell_type": "code",
      "source": [
        "tel = ['+48 555 444 333',\n",
        "       '(48) 555-444-333',\n",
        "       '(+48)555444333',\n",
        "       '+48 555444333',\n",
        "       '+48555444333',\n",
        "       '48555444333']\n",
        "\n",
        "phones = []\n",
        "\n",
        "for number in tel:\n",
        "    digits_only = re.sub(r'\\D', '', number)\n",
        "    code = digits_only[:2]\n",
        "    phone = digits_only[2:]\n",
        "    phones.append((code, phone))\n",
        "\n",
        "for code, number in phones:\n",
        "    print(f\"Code: {code}, Number: {number}\")\n"
      ],
      "metadata": {
        "id": "YYn4fqgofP4y",
        "colab": {
          "base_uri": "https://localhost:8080/"
        },
        "outputId": "294e549e-0f90-43fb-c2ae-c0d600e81123"
      },
      "execution_count": 8,
      "outputs": [
        {
          "output_type": "stream",
          "name": "stdout",
          "text": [
            "Code: 48, Number: 555444333\n",
            "Code: 48, Number: 555444333\n",
            "Code: 48, Number: 555444333\n",
            "Code: 48, Number: 555444333\n",
            "Code: 48, Number: 555444333\n",
            "Code: 48, Number: 555444333\n"
          ]
        }
      ]
    }
  ]
}