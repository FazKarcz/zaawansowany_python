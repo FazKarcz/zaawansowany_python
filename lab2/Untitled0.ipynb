{
  "nbformat": 4,
  "nbformat_minor": 0,
  "metadata": {
    "colab": {
      "provenance": []
    },
    "kernelspec": {
      "name": "python3",
      "display_name": "Python 3"
    },
    "language_info": {
      "name": "python"
    }
  },
  "cells": [
    {
      "cell_type": "markdown",
      "source": [
        "# **Zad 1**"
      ],
      "metadata": {
        "id": "Q8P7iSj4SU7M"
      }
    },
    {
      "cell_type": "code",
      "source": [
        "import csv\n",
        "from collections import namedtuple\n",
        "\n",
        "with open(\"zamowienia.csv\", encoding='utf8') as file:\n",
        "    reader = csv.reader(file, delimiter=';')\n",
        "    headers = next(reader)\n",
        "    headers = [h.lower().replace(' ', '_') for h in headers]\n",
        "    Order = namedtuple('Order', headers)\n",
        "    orders = [Order._make(row) for row in reader]\n",
        "\n",
        "for order in orders[:10]:\n",
        "    print(order)\n",
        "\n"
      ],
      "metadata": {
        "colab": {
          "base_uri": "https://localhost:8080/"
        },
        "id": "8veACGEePeql",
        "outputId": "fe8adf93-70d3-4b1d-9ad3-f649fd75a318"
      },
      "execution_count": 2,
      "outputs": [
        {
          "output_type": "stream",
          "name": "stdout",
          "text": [
            "Order(kraj='Polska', sprzedawca='Kowalski', data_zamowienia='2003-07-16', idzamowienia='10248', utarg='440.00')\n",
            "Order(kraj='Polska', sprzedawca='Sowiński', data_zamowienia='2003-07-10', idzamowienia='10249', utarg='1863.40')\n",
            "Order(kraj='Niemcy', sprzedawca='Peacock', data_zamowienia='2003-07-12', idzamowienia='10250', utarg='1552.60')\n",
            "Order(kraj='Niemcy', sprzedawca='Leverling', data_zamowienia='2003-07-15', idzamowienia='10251', utarg='654.06')\n",
            "Order(kraj='Niemcy', sprzedawca='Peacock', data_zamowienia='2003-07-11', idzamowienia='10252', utarg='3597.90')\n",
            "Order(kraj='Niemcy', sprzedawca='Leverling', data_zamowienia='2003-07-16', idzamowienia='10253', utarg='1444.80')\n",
            "Order(kraj='Polska', sprzedawca='Kowalski', data_zamowienia='2003-07-23', idzamowienia='10254', utarg='556.62')\n",
            "Order(kraj='Polska', sprzedawca='Dudek', data_zamowienia='2003-07-15', idzamowienia='10255', utarg='2490.50')\n",
            "Order(kraj='Niemcy', sprzedawca='Leverling', data_zamowienia='2003-07-17', idzamowienia='10256', utarg='517.80')\n",
            "Order(kraj='Niemcy', sprzedawca='Peacock', data_zamowienia='2003-07-22', idzamowienia='10257', utarg='1119.90')\n"
          ]
        }
      ]
    },
    {
      "cell_type": "markdown",
      "source": [
        "# Zad **2**"
      ],
      "metadata": {
        "id": "9eS8lmxtPk6-"
      }
    },
    {
      "cell_type": "code",
      "source": [
        "from collections import namedtuple\n",
        "\n",
        "Point = namedtuple('Point', ['x','y'], defaults=[0,0])\n",
        "p = Point()\n",
        "p._asdict()\n",
        "\n",
        "p1 = Point(1, 2)\n",
        "p2 = Point(2, 3)\n",
        "p3 = Point(1, 2)\n",
        "p_default = Point() #(Czyli 0,0)\n",
        "\n",
        "# Porównywania\n",
        "print(\"p1 == p3:\", p1 == p3)\n",
        "print(\"p1 != p2:\", p1 != p2)\n",
        "print(\"p1 < p2:\", p1 < p2)\n",
        "print(\"p2 > p1:\", p2 > p1)\n",
        "print(\"p1 <= p3:\", p1 <= p3)\n",
        "print(\"p1 >= p2:\", p1 >= p2)\n",
        "\n",
        "\n",
        "print(\"Czy 0 jest w p_default?\", 0 in p_default)\n",
        "print(\"Czy 1 jest w p2?\", 1 in p2)\n",
        "\n",
        "\n",
        "print(\"Długość p1:\", len(p1))  # 2\n",
        "\n",
        "\n",
        "# Testowanie operacji arytmetycznych (o ile są możliwe)\n",
        "print(\"-----Testowanie dodawania-----\")\n",
        "try:\n",
        "    suma = p1 + p2\n",
        "    print(\"Dodania p1 do p2:\", suma)\n",
        "except TypeError as e:\n",
        "    print(\"Błąd\", e)\n",
        "\n",
        "print(\"-----Testowanie mnożenia-----\")\n",
        "try:\n",
        "    mnożenie = p1 * 2\n",
        "    print(\"Mnożenie przez 2:\", mnożenie)\n",
        "except TypeError as e:\n",
        "    print(\"Błąd\", e)\n",
        "\n",
        "print(\"-----Testowanie odejmowania-----\")\n",
        "try:\n",
        "    odejmowanie = p1 - p2\n",
        "except TypeError as e:\n",
        "    print(\"Błąd nie można odjąć :/\", e)\n",
        "\n",
        "\n"
      ],
      "metadata": {
        "colab": {
          "base_uri": "https://localhost:8080/"
        },
        "id": "02K4lCtQPeBF",
        "outputId": "9a950445-6ce1-4df0-f4aa-d283ab9a6c36"
      },
      "execution_count": null,
      "outputs": [
        {
          "output_type": "stream",
          "name": "stdout",
          "text": [
            "p1 == p3: True\n",
            "p1 != p2: True\n",
            "p1 < p2: True\n",
            "p2 > p1: True\n",
            "p1 <= p3: True\n",
            "p1 >= p2: False\n",
            "Czy 0 jest w p_default? True\n",
            "Czy 1 jest w p2? False\n",
            "Długość p1: 2\n",
            "-----Testowanie dodawania-----\n",
            "Dodania p1 do p2: (1, 2, 2, 3)\n",
            "-----Testowanie mnożenia-----\n",
            "Mnożenie przez 2: (1, 2, 1, 2)\n",
            "-----Testowanie odejmowania-----\n",
            "Błąd nie można odjąć :/ unsupported operand type(s) for -: 'Point' and 'Point'\n"
          ]
        }
      ]
    },
    {
      "cell_type": "markdown",
      "source": [
        "# **Zad 3**\n"
      ],
      "metadata": {
        "id": "yUPEQ1hSNRD-"
      }
    },
    {
      "cell_type": "code",
      "execution_count": 5,
      "metadata": {
        "colab": {
          "base_uri": "https://localhost:8080/"
        },
        "id": "ABH8zMQYMt1V",
        "outputId": "530c9b53-e8bc-41b8-e978-7af7d5eb1264"
      },
      "outputs": [
        {
          "output_type": "stream",
          "name": "stdout",
          "text": [
            "Osoba(name='Jakub', is_admin=True)\n",
            "Osoba(name='Tomek', is_admin=False)\n",
            "Produkt(name='Jabłko', price=2.5, quantity=10)\n"
          ]
        }
      ],
      "source": [
        "from dataclasses import make_dataclass\n",
        "\n",
        "slownik = {\n",
        "    1: {\n",
        "        'class_name': 'Osoba',\n",
        "        'props': [('name', 'str'), ('is_admin', 'bool', 'False')]},\n",
        "    2: {\n",
        "        'class_name': 'Produkt',\n",
        "        'props': [('name', 'str'), ('price', 'float', '0.0'), ('quantity', 'float', '0.0')]}\n",
        "}\n",
        "\n",
        "classes = {}\n",
        "for key, value in slownik.items():\n",
        "    class_name = value['class_name']\n",
        "    props = [(p[0], eval(p[1]), eval(p[2]) if len(p) > 2 else None) for p in value['props']]\n",
        "    classes[class_name] = make_dataclass(class_name, props)\n",
        "\n",
        "# Przykładowe użycie\n",
        "osoba = classes['Osoba'](\"Jakub\", True)\n",
        "osoba2 = classes['Osoba'](\"Tomek\", False)\n",
        "produkt = classes['Produkt'](\"Grzesiek\", 2.5, 10)\n",
        "\n",
        "print(osoba)\n",
        "print(osoba2)\n",
        "print(produkt)\n"
      ]
    }
  ]
}