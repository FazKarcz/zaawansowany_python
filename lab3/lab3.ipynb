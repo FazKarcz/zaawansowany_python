{
  "nbformat": 4,
  "nbformat_minor": 0,
  "metadata": {
    "colab": {
      "provenance": []
    },
    "kernelspec": {
      "name": "python3",
      "display_name": "Python 3"
    },
    "language_info": {
      "name": "python"
    }
  },
  "cells": [
    {
      "cell_type": "markdown",
      "source": [
        "Zad 1/2"
      ],
      "metadata": {
        "id": "3r6OkBC1R9Tj"
      }
    },
    {
      "cell_type": "code",
      "execution_count": 7,
      "metadata": {
        "id": "A6PwZ8_vRar2"
      },
      "outputs": [],
      "source": [
        "import inspect\n",
        "from enum import Enum\n",
        "\n",
        "\n",
        "class Field:\n",
        "\n",
        "    class FieldType(Enum):\n",
        "        INTEGER = 1\n",
        "        FLOAT = 2\n",
        "        STRING = 3\n",
        "        DATE = 4\n",
        "\n",
        "    def __init__(self, field_type: 'Field.FieldType'):\n",
        "        if not isinstance(field_type, Field.FieldType):\n",
        "            raise ValueError(\"field_type must be an instance of Field.FieldType\")\n",
        "        self.field_type = field_type\n",
        "\n",
        "    def get_fieldtype(self):\n",
        "        return self.field_type\n",
        "\n",
        "    def __str__(self):\n",
        "        return self.field_type.__class__.__name__\n",
        "\n",
        "\n",
        "class Model:\n",
        "\n",
        "    def __init__(self, db_table=None):\n",
        "        self.db_table = self.generate_table_for_name(self.__class__.__name__) if db_table is None else db_table\n",
        "\n",
        "    def get_fields(self):\n",
        "        fields = {}\n",
        "        for name, obj in inspect.getmembers(self):\n",
        "            if isinstance(obj, Field):\n",
        "                fields[name] = obj.get_fieldtype()\n",
        "        return fields\n",
        "\n",
        "    def __setattr__(self, attr, val):\n",
        "        for name, obj in inspect.getmembers(self):\n",
        "            if name == attr and isinstance(obj, Field):\n",
        "                obj.value = val\n",
        "                return\n",
        "        super().__setattr__(attr, val)\n",
        "\n",
        "    @staticmethod\n",
        "    def generate_table_for_name(name: str):\n",
        "        return f'db_{name.lower()}'\n",
        "\n",
        "    @classmethod\n",
        "    def from_dict(cls, name: str, fields: dict[str, Field]):\n",
        "        for field in fields.items():\n",
        "            match field:\n",
        "                case (str(), Field()):\n",
        "                    setattr(cls, field[0], field[1])\n",
        "\n",
        "        model = cls()\n",
        "        model.db_table = cls.generate_table_for_name(name)\n",
        "        return model\n",
        "\n",
        "class Person(Model):\n",
        "    id = Field(Field.FieldType.INTEGER)\n",
        "    firstname = Field(Field.FieldType.STRING)\n",
        "    lastname = Field(Field.FieldType.STRING)\n",
        "    age = Field(Field.FieldType.INTEGER)"
      ]
    },
    {
      "cell_type": "code",
      "source": [
        "person = Person()\n",
        "print(person.db_table)\n",
        "print(person.get_fields())\n",
        "\n",
        "assert isinstance(Person.id, Field)\n",
        "assert isinstance(Person.id.field_type, Field.FieldType)\n",
        "\n",
        "new_field = Field(Field.FieldType.DATE)\n",
        "print(new_field.get_fieldtype())  #"
      ],
      "metadata": {
        "colab": {
          "base_uri": "https://localhost:8080/"
        },
        "id": "mCy76LGIRcX8",
        "outputId": "c1d5794d-515f-4b02-812f-433bf3144b5a"
      },
      "execution_count": 14,
      "outputs": [
        {
          "output_type": "stream",
          "name": "stdout",
          "text": [
            "db_person\n",
            "{'age': <FieldType.INTEGER: 1>, 'firstname': <FieldType.STRING: 3>, 'id': <FieldType.INTEGER: 1>, 'lastname': <FieldType.STRING: 3>}\n",
            "FieldType.DATE\n"
          ]
        }
      ]
    },
    {
      "cell_type": "markdown",
      "source": [
        "Zad 3"
      ],
      "metadata": {
        "id": "e44-ZPu5TUds"
      }
    },
    {
      "cell_type": "code",
      "source": [
        "import inspect\n",
        "from enum import Enum\n",
        "\n",
        "\n",
        "class Field:\n",
        "\n",
        "    class FieldType(Enum):\n",
        "        INTEGER = 1\n",
        "        FLOAT = 2\n",
        "        STRING = 3\n",
        "        DATE = 4\n",
        "\n",
        "    def __init__(self, field_type: 'Field.FieldType'):\n",
        "        if not isinstance(field_type, Field.FieldType):\n",
        "            raise ValueError(\"field_type must be an instance of Field.FieldType\")\n",
        "        self.field_type = field_type\n",
        "        self._value = None\n",
        "\n",
        "    def _get_field_value(self):\n",
        "        return self._value\n",
        "\n",
        "    def _set_field_value(self, value):\n",
        "        self._value = value\n",
        "\n",
        "    def get_fieldtype(self):\n",
        "        return self.field_type\n",
        "\n",
        "    def __str__(self):\n",
        "        return self.field_type.__class__.__name__\n",
        "\n",
        "\n",
        "class StringField(Field):\n",
        "    def __init__(self):\n",
        "        super().__init__(Field.FieldType.STRING)\n",
        "\n",
        "    def _set_field_value(self, value):\n",
        "        if not isinstance(value, str):\n",
        "            raise ValueError(\"Wartość pola StringField musi być typu string\")\n",
        "        super()._set_field_value(value)\n",
        "\n",
        "\n",
        "class Model:\n",
        "\n",
        "    def __init__(self, db_table=None):\n",
        "        self.db_table = self.generate_table_for_name(self.__class__.__name__) if db_table is None else db_table\n",
        "\n",
        "    def get_fields(self):\n",
        "        fields = {}\n",
        "        for name, obj in inspect.getmembers(self):\n",
        "            if isinstance(obj, Field):\n",
        "                fields[name] = obj.get_fieldtype()\n",
        "        return fields\n",
        "\n",
        "    def __setattr__(self, attr, val):\n",
        "        for name, obj in inspect.getmembers(self):\n",
        "            if name == attr and isinstance(obj, Field):\n",
        "                obj._set_field_value(val)\n",
        "                return\n",
        "        super().__setattr__(attr, val)\n",
        "\n",
        "    @staticmethod\n",
        "    def generate_table_for_name(name: str):\n",
        "        return f'db_{name.lower()}'\n",
        "\n",
        "    @classmethod\n",
        "    def from_dict(cls, name: str, fields: dict[str, Field]):\n",
        "        for field in fields.items():\n",
        "            match field:\n",
        "                case (str(), Field()):\n",
        "                    setattr(cls, field[0], field[1])\n",
        "\n",
        "        model = cls()\n",
        "        model.db_table = cls.generate_table_for_name(name)\n",
        "        return model\n",
        "\n",
        "class Person(Model):\n",
        "    id = Field(Field.FieldType.INTEGER)\n",
        "    firstname = StringField()\n",
        "    lastname = StringField()\n",
        "    age = Field(Field.FieldType.INTEGER)\n",
        "\n",
        "person = Person()\n",
        "person.firstname = \"Jakub\"\n",
        "person.lastname = \"Karcz\"\n",
        "\n",
        "print(person.firstname._get_field_value())\n",
        "print(person.lastname._get_field_value())\n",
        "\n",
        "\n",
        "try:\n",
        "    person.firstname = 123\n",
        "except ValueError as e:\n",
        "    print(e)\n",
        "print(person.get_fields())\n"
      ],
      "metadata": {
        "colab": {
          "base_uri": "https://localhost:8080/"
        },
        "id": "2QNr_b8FRcmA",
        "outputId": "191bae03-6ec1-4d63-847f-923190786048"
      },
      "execution_count": 17,
      "outputs": [
        {
          "output_type": "stream",
          "name": "stdout",
          "text": [
            "Jakub\n",
            "Karcz\n",
            "Wartość pola StringField musi być typu string\n",
            "{'age': <FieldType.INTEGER: 1>, 'firstname': <FieldType.STRING: 3>, 'id': <FieldType.INTEGER: 1>, 'lastname': <FieldType.STRING: 3>}\n"
          ]
        }
      ]
    },
    {
      "cell_type": "markdown",
      "source": [
        "Zad 4\n"
      ],
      "metadata": {
        "id": "rK9CihfdTr-Y"
      }
    },
    {
      "cell_type": "code",
      "source": [
        "import inspect\n",
        "from enum import Enum\n",
        "\n",
        "\n",
        "class Field:\n",
        "\n",
        "    class FieldType(Enum):\n",
        "        INTEGER = 1\n",
        "        FLOAT = 2\n",
        "        STRING = 3\n",
        "        DATE = 4\n",
        "\n",
        "    def __init__(self, field_type: 'Field.FieldType'):\n",
        "        if not isinstance(field_type, Field.FieldType):\n",
        "            raise ValueError(\"field_type must be an instance of Field.FieldType\")\n",
        "        self.field_type = field_type\n",
        "        self._values = {}\n",
        "\n",
        "    def _get_field_value(self, instance):\n",
        "        return self._values.get(instance, None)\n",
        "\n",
        "    def _set_field_value(self, instance, value):\n",
        "        self._values[instance] = value\n",
        "\n",
        "    def __get__(self, instance, owner):\n",
        "        if instance is None:\n",
        "            return self\n",
        "        return self._get_field_value(instance)\n",
        "\n",
        "    def __set__(self, instance, value):\n",
        "        self._set_field_value(instance, value)\n",
        "\n",
        "    def get_fieldtype(self):\n",
        "        return self.field_type\n",
        "\n",
        "    def __str__(self):\n",
        "        return f\"{self.field_type.name}\"\n",
        "\n",
        "\n",
        "class StringField(Field):\n",
        "    def __init__(self):\n",
        "        super().__init__(Field.FieldType.STRING)\n",
        "\n",
        "    def _set_field_value(self, instance, value):\n",
        "        if not isinstance(value, str):\n",
        "            raise ValueError(\"Wartość pola StringField musi być typu string\")\n",
        "        super()._set_field_value(instance, value)\n",
        "\n",
        "\n",
        "class Model:\n",
        "\n",
        "    def __init__(self, db_table=None):\n",
        "        self.db_table = self.generate_table_for_name(self.__class__.__name__) if db_table is None else db_table\n",
        "\n",
        "    def get_fields(self):\n",
        "        fields = {}\n",
        "        for name, obj in inspect.getmembers(self.__class__):\n",
        "            if isinstance(obj, Field):\n",
        "                fields[name] = obj.get_fieldtype()\n",
        "        return fields\n",
        "\n",
        "    @staticmethod\n",
        "    def generate_table_for_name(name: str):\n",
        "        return f'db_{name.lower()}'\n",
        "\n",
        "    @classmethod\n",
        "    def from_dict(cls, name: str, fields: dict[str, Field]):\n",
        "        for field in fields.items():\n",
        "            match field:\n",
        "                case (str(), Field()):\n",
        "                    setattr(cls, field[0], field[1])\n",
        "\n",
        "        model = cls()\n",
        "        model.db_table = cls.generate_table_for_name(name)\n",
        "        return model\n",
        "\n",
        "class Movie(Model):\n",
        "    title = StringField()\n",
        "    director = StringField()\n",
        "\n",
        "movie = Movie()\n",
        "movie.title = \"Alice in the Wonderland\"\n",
        "movie.director = \"Ktoś taki\"\n",
        "\n",
        "print(movie.title)\n",
        "print(movie.director)\n",
        "print(movie.get_fields())\n"
      ],
      "metadata": {
        "colab": {
          "base_uri": "https://localhost:8080/"
        },
        "id": "Q9SG3DXMTpkB",
        "outputId": "3a1c5fca-95f6-441f-cc5e-dab79783e750"
      },
      "execution_count": 16,
      "outputs": [
        {
          "output_type": "stream",
          "name": "stdout",
          "text": [
            "Alice in the Wonderland\n",
            "Ktoś taki\n",
            "{'director': <FieldType.STRING: 3>, 'title': <FieldType.STRING: 3>}\n"
          ]
        }
      ]
    }
  ]
}