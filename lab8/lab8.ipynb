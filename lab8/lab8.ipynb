{
  "nbformat": 4,
  "nbformat_minor": 0,
  "metadata": {
    "colab": {
      "provenance": []
    },
    "kernelspec": {
      "name": "python3",
      "display_name": "Python 3"
    },
    "language_info": {
      "name": "python"
    }
  },
  "cells": [
    {
      "cell_type": "markdown",
      "source": [
        "Zad 1"
      ],
      "metadata": {
        "id": "w7wfaA7WdDQf"
      }
    },
    {
      "cell_type": "code",
      "execution_count": null,
      "metadata": {
        "colab": {
          "base_uri": "https://localhost:8080/"
        },
        "id": "zJQTgIApcKUz",
        "outputId": "c3989fdd-0b41-473d-c96c-abb28702fe06"
      },
      "outputs": [
        {
          "output_type": "stream",
          "name": "stdout",
          "text": [
            "5\n",
            "1\n",
            "4\n",
            "77\n",
            "0\n",
            "a\n",
            "9\n"
          ]
        }
      ],
      "source": [
        "class Iterator:\n",
        "    def __init__(self, sequence):\n",
        "        self.sequence = sequence\n",
        "        self.index = 0\n",
        "\n",
        "    def __iter__(self):\n",
        "        return self\n",
        "\n",
        "    def __next__(self):\n",
        "        if self.index >= len(self.sequence):\n",
        "            raise StopIteration\n",
        "        value = self.sequence[self.index]\n",
        "        self.index += 2\n",
        "        return value\n",
        "\n",
        "lista = [5,8,1,2,4,6,77,8,0,1,\"a\",\"b\",9]\n",
        "iterator = Iterator(lista)\n",
        "\n",
        "for i in iterator:\n",
        "    print(i)\n",
        "\n"
      ]
    },
    {
      "cell_type": "markdown",
      "source": [
        "Zad 2"
      ],
      "metadata": {
        "id": "GrFozYxadE41"
      }
    },
    {
      "cell_type": "code",
      "source": [
        "class Generator:\n",
        "    def __init__(self):\n",
        "        self.current = 1\n",
        "\n",
        "    def __iter__(self):\n",
        "        return self\n",
        "\n",
        "    def __next__(self):\n",
        "        self.current += 1\n",
        "        while not self.is_prime(self.current):\n",
        "            self.current += 1\n",
        "        return self.current\n",
        "\n",
        "    def is_prime(self, n):\n",
        "        if n < 2:\n",
        "            return False\n",
        "        for i in range(2, int(n**0.5)+1):\n",
        "            if n % i == 0:\n",
        "                return False\n",
        "        return True\n",
        "\n",
        "Generator = Generator()\n",
        "\n",
        "for i in range(5):\n",
        "    print(next(Generator))"
      ],
      "metadata": {
        "colab": {
          "base_uri": "https://localhost:8080/"
        },
        "id": "k1vpS9PfdF22",
        "outputId": "970dac8e-c436-4732-a283-64c2850ea681"
      },
      "execution_count": null,
      "outputs": [
        {
          "output_type": "stream",
          "name": "stdout",
          "text": [
            "2\n",
            "3\n",
            "5\n",
            "7\n",
            "11\n"
          ]
        }
      ]
    },
    {
      "cell_type": "markdown",
      "source": [
        "Zad 3"
      ],
      "metadata": {
        "id": "_Y6FiFeCdoGk"
      }
    },
    {
      "cell_type": "code",
      "source": [
        "class WeekdayIterator:\n",
        "    days = [\"poniedziałek\", \"wtorek\", \"środa\", \"czwartek\", \"piątek\", \"sobota\", \"niedziela\"]\n",
        "\n",
        "    def __init__(self, start_index=0):\n",
        "        self.index = start_index % len(self.days)\n",
        "\n",
        "    def __iter__(self):\n",
        "        return self\n",
        "\n",
        "    def __next__(self):\n",
        "        day = self.days[self.index]\n",
        "        self.index = (self.index + 1) % len(self.days)\n",
        "        return day\n",
        "\n",
        "iterator = WeekdayIterator()\n",
        "\n",
        "for i in range(14):\n",
        "    print(next(iterator))"
      ],
      "metadata": {
        "colab": {
          "base_uri": "https://localhost:8080/"
        },
        "id": "Df0Ju6UXdq-M",
        "outputId": "64771934-184c-49f7-8232-461c47289afb"
      },
      "execution_count": null,
      "outputs": [
        {
          "output_type": "stream",
          "name": "stdout",
          "text": [
            "poniedziałek\n",
            "wtorek\n",
            "środa\n",
            "czwartek\n",
            "piątek\n",
            "sobota\n",
            "niedziela\n",
            "poniedziałek\n",
            "wtorek\n",
            "środa\n",
            "czwartek\n",
            "piątek\n",
            "sobota\n",
            "niedziela\n"
          ]
        }
      ]
    },
    {
      "cell_type": "markdown",
      "source": [
        "Zad 4"
      ],
      "metadata": {
        "id": "OjlFmE8LeNf9"
      }
    },
    {
      "cell_type": "code",
      "source": [
        "import re\n",
        "\n",
        "class WordIterator:\n",
        "    def __init__(self, text):\n",
        "        self.words = re.finditer(r'\\b\\w+\\b', text)\n",
        "        self.words_iter = iter(self.words)\n",
        "\n",
        "    def __iter__(self):\n",
        "        return self\n",
        "\n",
        "    def __next__(self):\n",
        "        return next(self.words_iter).group()\n",
        "\n",
        "text = \"Strasznie wczoraj zachlałem, paliłem jointy do siódmej nad ranem, teraz mnie krzyż 'Boli'\"\n",
        "iterator = WordIterator(text)\n",
        "\n",
        "for i in iterator:\n",
        "    print(i)"
      ],
      "metadata": {
        "colab": {
          "base_uri": "https://localhost:8080/"
        },
        "id": "BpqmL9UneKq0",
        "outputId": "dba11361-12e3-4ec5-adf3-42fac1a0a727"
      },
      "execution_count": null,
      "outputs": [
        {
          "output_type": "stream",
          "name": "stdout",
          "text": [
            "Strasznie\n",
            "wczoraj\n",
            "zachlałem\n",
            "paliłem\n",
            "jointy\n",
            "do\n",
            "siódmej\n",
            "nad\n",
            "ranem\n",
            "teraz\n",
            "mnie\n",
            "krzyż\n",
            "Boli\n"
          ]
        }
      ]
    },
    {
      "cell_type": "markdown",
      "source": [
        "Zad 5"
      ],
      "metadata": {
        "id": "CEdGNpXXfDNr"
      }
    },
    {
      "cell_type": "code",
      "source": [
        "import re\n",
        "\n",
        "def word_generator(text):\n",
        "    for match in re.finditer(r'\\b\\w+\\b', text):\n",
        "        yield match.group()\n",
        "\n",
        "text = \"Strasznie wczoraj zachlałem, paliłem jointy do siódmej nad ranem, teraz mnie krzyż 'Boli'\"\n",
        "\n",
        "for word in word_generator(text):\n",
        "    print(word)\n"
      ],
      "metadata": {
        "id": "fLrN-AWufFHb",
        "colab": {
          "base_uri": "https://localhost:8080/"
        },
        "outputId": "37316779-ba69-424b-a274-0c25ac8cc294"
      },
      "execution_count": 1,
      "outputs": [
        {
          "output_type": "stream",
          "name": "stdout",
          "text": [
            "Strasznie\n",
            "wczoraj\n",
            "zachlałem\n",
            "paliłem\n",
            "jointy\n",
            "do\n",
            "siódmej\n",
            "nad\n",
            "ranem\n",
            "teraz\n",
            "mnie\n",
            "krzyż\n",
            "Boli\n"
          ]
        }
      ]
    }
  ]
}