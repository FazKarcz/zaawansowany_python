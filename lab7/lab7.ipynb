{
  "nbformat": 4,
  "nbformat_minor": 0,
  "metadata": {
    "colab": {
      "provenance": []
    },
    "kernelspec": {
      "name": "python3",
      "display_name": "Python 3"
    },
    "language_info": {
      "name": "python"
    }
  },
  "cells": [
    {
      "cell_type": "markdown",
      "source": [
        "Zad 1\n"
      ],
      "metadata": {
        "id": "uog3sDeTPo6U"
      }
    },
    {
      "cell_type": "code",
      "execution_count": null,
      "metadata": {
        "id": "VsR9A-7JYnuc",
        "colab": {
          "base_uri": "https://localhost:8080/"
        },
        "outputId": "046bb91d-4081-4524-a7be-e6e2e40507d1"
      },
      "outputs": [
        {
          "output_type": "stream",
          "name": "stdout",
          "text": [
            "3\n"
          ]
        }
      ],
      "source": [
        "from functools import reduce\n",
        "\n",
        "count_vowels = lambda text: reduce(lambda acc, ch: acc + (1 if ch.lower() in 'aeiouąęóyui' else 0), text, 0)\n",
        "\n",
        "print(count_vowels(\"Grzegrzółka\"))\n"
      ]
    },
    {
      "cell_type": "markdown",
      "source": [
        "Zad 2"
      ],
      "metadata": {
        "id": "ZifENV0fPujc"
      }
    },
    {
      "cell_type": "code",
      "source": [
        "data = [('Adam', 'Nowak', '13 pkt'), ('Anna', 'Górka', '15 pkt'), ('Wojtek', 'Bonk', '8 pkt')]\n",
        "\n",
        "sorted_data = sorted(data, key=lambda x: int(x[2].split()[0]))\n",
        "\n",
        "print(sorted_data)\n"
      ],
      "metadata": {
        "colab": {
          "base_uri": "https://localhost:8080/"
        },
        "id": "srwdskktPvz0",
        "outputId": "12d8d91c-2475-45fd-e752-f2dc049732da"
      },
      "execution_count": null,
      "outputs": [
        {
          "output_type": "stream",
          "name": "stdout",
          "text": [
            "[('Wojtek', 'Bonk', '8 pkt'), ('Adam', 'Nowak', '13 pkt'), ('Anna', 'Górka', '15 pkt')]\n"
          ]
        }
      ]
    },
    {
      "cell_type": "markdown",
      "source": [
        "Zad 3"
      ],
      "metadata": {
        "id": "BeY60A4RQOy0"
      }
    },
    {
      "cell_type": "code",
      "source": [
        "from operator import mul\n",
        "\n",
        "# DO POPRAWY CHYBA\n",
        "fib = [0, 1]\n",
        "for _ in range(8):\n",
        "    fib.append(fib[-1] + fib[-2])\n",
        "\n",
        "product = reduce(lambda x, y: x * y, fib[1:10])\n",
        "print(product)\n"
      ],
      "metadata": {
        "colab": {
          "base_uri": "https://localhost:8080/"
        },
        "id": "xY9sAOZwQQbc",
        "outputId": "551faf64-e08f-4be5-b2b6-160bbc020e4d"
      },
      "execution_count": null,
      "outputs": [
        {
          "output_type": "stream",
          "name": "stdout",
          "text": [
            "2227680\n"
          ]
        }
      ]
    },
    {
      "cell_type": "markdown",
      "source": [
        "Zad 4"
      ],
      "metadata": {
        "id": "Vf8SY2NTSENs"
      }
    },
    {
      "cell_type": "code",
      "source": [
        "from itertools import cycle\n",
        "\n",
        "def what_day(start_day, n):\n",
        "    week_days = ['poniedziałek', 'wtorek', 'środa', 'czwartek', 'piątek', 'sobota', 'niedziela']\n",
        "\n",
        "    days = cycle(week_days)\n",
        "\n",
        "    for day in days:\n",
        "        if day == start_day.lower():\n",
        "            break\n",
        "\n",
        "    for _ in range(n):\n",
        "        day = next(days)\n",
        "\n",
        "    return day\n",
        "\n",
        "print(what_day('wtorek', 3))"
      ],
      "metadata": {
        "colab": {
          "base_uri": "https://localhost:8080/"
        },
        "id": "o0xnbm1XSFwk",
        "outputId": "a9a90bd4-39aa-424b-8bb9-5bf94dd4482a"
      },
      "execution_count": null,
      "outputs": [
        {
          "output_type": "stream",
          "name": "stdout",
          "text": [
            "piątek\n"
          ]
        }
      ]
    },
    {
      "cell_type": "code",
      "source": [
        "import itertools\n",
        "\n",
        "permutacje = itertools.permutations('ABCD', r=2)\n",
        "permutacje_jako_str = list(map(lambda x: ''.join(x), permutacje))\n",
        "\n",
        "print(permutacje_jako_str)"
      ],
      "metadata": {
        "colab": {
          "base_uri": "https://localhost:8080/"
        },
        "id": "rXrOUoP3de3-",
        "outputId": "dec1b54b-d439-48e3-a2e8-fa5203585b40"
      },
      "execution_count": 1,
      "outputs": [
        {
          "output_type": "stream",
          "name": "stdout",
          "text": [
            "['AB', 'AC', 'AD', 'BA', 'BC', 'BD', 'CA', 'CB', 'CD', 'DA', 'DB', 'DC']\n"
          ]
        }
      ]
    },
    {
      "cell_type": "code",
      "source": [
        "import itertools\n",
        "\n",
        "licznik = 0\n",
        "for b20, b10, b50, m5 in itertools.product(range(5), range(4), range(3), range(3)):\n",
        "    if b20 * 20 + b10 * 10 + b50 * 50 + m5 * 5 == 100:\n",
        "        print(f\"20zł x {b20}, 10zł x {b10}, 50zł x {b50}, 5zł x {m5}\")\n",
        "        licznik += 1\n",
        "\n",
        "print(f\"Liczba możliwych kombinacji: {licznik}\")"
      ],
      "metadata": {
        "colab": {
          "base_uri": "https://localhost:8080/"
        },
        "id": "RGToUJe9fQah",
        "outputId": "b6f97fab-89ae-4c96-f8b6-577fcb5c8bea"
      },
      "execution_count": 4,
      "outputs": [
        {
          "output_type": "stream",
          "name": "stdout",
          "text": [
            "20zł x 0, 10zł x 0, 50zł x 2, 5zł x 0\n",
            "20zł x 1, 10zł x 2, 50zł x 1, 5zł x 2\n",
            "20zł x 1, 10zł x 3, 50zł x 1, 5zł x 0\n",
            "20zł x 2, 10zł x 0, 50zł x 1, 5zł x 2\n",
            "20zł x 2, 10zł x 1, 50zł x 1, 5zł x 0\n",
            "20zł x 3, 10zł x 3, 50zł x 0, 5zł x 2\n",
            "20zł x 4, 10zł x 1, 50zł x 0, 5zł x 2\n",
            "20zł x 4, 10zł x 2, 50zł x 0, 5zł x 0\n",
            "Liczba możliwych kombinacji: 8\n"
          ]
        }
      ]
    },
    {
      "cell_type": "code",
      "source": [
        "from itertools import starmap\n",
        "\n",
        "dane = [\n",
        "    (255, 'b'),\n",
        "    (255, 'x'),\n",
        "    (123.456645, '.2f'),\n",
        "    (42, '04d')\n",
        "]\n",
        "\n",
        "lista = list(starmap(format, dane))\n",
        "\n",
        "for i in lista:\n",
        "    print(i)\n"
      ],
      "metadata": {
        "colab": {
          "base_uri": "https://localhost:8080/"
        },
        "id": "zvjD_LBqhRVw",
        "outputId": "154b948d-5db8-4bf7-e875-8e142daa2e25"
      },
      "execution_count": 6,
      "outputs": [
        {
          "output_type": "stream",
          "name": "stdout",
          "text": [
            "11111111\n",
            "ff\n",
            "123.46\n",
            "0042\n"
          ]
        }
      ]
    }
  ]
}